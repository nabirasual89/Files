{
  "nbformat": 4,
  "nbformat_minor": 0,
  "metadata": {
    "colab": {
      "provenance": []
    },
    "kernelspec": {
      "name": "python3",
      "display_name": "Python 3"
    },
    "language_info": {
      "name": "python"
    }
  },
  "cells": [
    {
      "cell_type": "markdown",
      "source": [],
      "metadata": {
        "id": "QzhBRAfbw6Tr"
      }
    },
    {
      "cell_type": "markdown",
      "source": [
        "# **Files, exceptional handling, logging, and memory management Questions**"
      ],
      "metadata": {
        "id": "NYXRwm_fQXPf"
      }
    },
    {
      "cell_type": "markdown",
      "source": [
        "1. What is the difference between interpreted and compiled languages?\n",
        " - The key difference between interpreted and compiled programming languages lies in how they translate source code into machine-executable instructions. Compiled languages translate the entire program into machine code before execution, while interpreted languages translate the code line by line during execution.\n",
        "\n",
        "Compiled Languages:\n",
        "\n",
        "Translation:\n",
        " The entire program's source code is translated into machine code (or a similar intermediate language) before execution.\n",
        "\n",
        "Execution:\n",
        " The translated machine code is then executed by the computer's processor.\n",
        "\n",
        "Process:\n",
        " Compilation involves a distinct step of translating the entire program before running it.\n",
        "\n",
        "Examples: C, C++, Java, Fortran."
      ],
      "metadata": {
        "id": "ucHLHHi8RImc"
      }
    },
    {
      "cell_type": "markdown",
      "source": [
        "2. What is exception handling in Python?\n",
        " - Exception handling in Python is a mechanism to manage errors that occur during the execution of a program. It allows the program to continue running even if an error occurs, preventing it from crashing. The try, except, else, finally, and raise keywords are used to handle exceptions.\n",
        "\n",
        "try block:\n",
        " Encloses the code that might raise an exception.\n",
        "\n",
        "except block:\n",
        " Specifies the code to be executed if a specific exception occurs in the try block. Multiple except blocks can be used to handle different types of exceptions.\n",
        "\n",
        "else block:\n",
        " Contains code that is executed if no exception occurs in the try block.\n",
        "\n",
        "finally block:\n",
        " Contains code that is always executed, regardless of whether an exception occurred or not. It is typically used for cleanup actions, such as closing Files or releasing resources.\n",
        "\n",
        "Raise statement:\n",
        " Used to raise an exception explicitly."
      ],
      "metadata": {
        "id": "Z2bv6M1ZSpmD"
      }
    },
    {
      "cell_type": "markdown",
      "source": [
        "3. What is the purpose of the finally block in exception handling?\n",
        " - The purpose of the finally block in exception handling is to ensure that a specific block of code is always executed, regardless of whether an exception occurs in the preceding try block, or if any exception handling catch blocks are triggered. It's crucial for guaranteeing that critical cleanup actions, such as closing files or releasing resources, are performed consistently, even in the face of unexpected errors.\n",
        "\n",
        "Here's a breakdown of why the finally block is important:\n",
        "\n",
        "Guaranteed Execution:\n",
        "\n",
        "The finally block is always executed after the try block, whether the code inside the try block runs without errors, throws an exception that is caught by a catch block, or throws an exception that is not caught.\n",
        "\n",
        "Resource Management:\n",
        "\n",
        "The finally block is often used to release resources that were acquired in the try block, such as closing files, releasing database connections, or deallocating memory. This prevents resource leaks and ensures that the program can function properly even if exceptions occur.\n",
        "\n",
        "Code Consistency:\n",
        "\n",
        "By using finally, you can guarantee that certain code will always execute regardless of the outcome of the try block. This helps to ensure consistent behavior and avoids potential errors that could arise if cleanup operations were skipped due to exceptions or other control flow issues.\n",
        "\n",
        "Avoidance of Bypassing:\n",
        "\n",
        "Without a finally block, cleanup code might be bypassed by return, break, or continue statements within the try block. The finally block ensures that these cleanup actions are always executed, even in these cases."
      ],
      "metadata": {
        "id": "XaPLKTpgTd_C"
      }
    },
    {
      "cell_type": "markdown",
      "source": [
        "4. What is lagging in Python?\n",
        " - Lagging in Python, particularly in the context of time series analysis and data manipulation, refers to accessing data from a previous time step or row. It's a way to look back in time within a dataset. This is commonly achieved using the shift() function in libraries like Pandas.\n",
        "\n",
        "Lagging is useful for:\n",
        "\n",
        "Feature engineering:\n",
        "\n",
        "Creating new features based on past values can improve the performance of time series models.\n",
        "\n",
        "Calculating differences:\n",
        "\n",
        "Finding the difference between a value and its lagged value can reveal trends and changes over time.\n",
        "\n",
        "Identifying patterns:\n",
        "\n",
        "Comparing current data points with past data points can help identify seasonality or other recurring patterns.\n",
        "\n",
        "For example, in Pandas, if you have a DataFrame with a column named \"Sales,\" you can create a lagged version of that column using df['Sales'].shift(1), which shifts the data down by one row, effectively aligning each sales value with the sales value from the previous period."
      ],
      "metadata": {
        "id": "RoRus4s0UAg4"
      }
    },
    {
      "cell_type": "code",
      "source": [
        "import pandas as pd\n",
        "\n",
        "# Sample time series data\n",
        "data = {'Date': pd.to_datetime(['2025-05-01', '2025-05-02', '2025-05-03', '2025-05-04']),\n",
        "        'Sales': [10, 15, 20, 25]}\n",
        "df = pd.DataFrame(data)\n",
        "\n",
        "# Create a lagged Sales column (lag of 1)\n",
        "df['Lagged_Sales'] = df['Sales'].shift(1)\n",
        "\n",
        "print(df)"
      ],
      "metadata": {
        "colab": {
          "base_uri": "https://localhost:8080/"
        },
        "id": "DEbEUraHTWw9",
        "outputId": "2a8e31d2-e27d-4487-ffff-9c8ad2afaf65"
      },
      "execution_count": null,
      "outputs": [
        {
          "output_type": "stream",
          "name": "stdout",
          "text": [
            "        Date  Sales  Lagged_Sales\n",
            "0 2025-05-01     10           NaN\n",
            "1 2025-05-02     15          10.0\n",
            "2 2025-05-03     20          15.0\n",
            "3 2025-05-04     25          20.0\n"
          ]
        }
      ]
    },
    {
      "cell_type": "markdown",
      "source": [
        "The first row in the Lagged_Sales column is NaN because there is no previous value to shift to that position."
      ],
      "metadata": {
        "id": "5antXBnLUrBK"
      }
    },
    {
      "cell_type": "markdown",
      "source": [
        "5. What is the significance of the_ _del_ _method in Python?\n",
        " - The __del__ method in Python, also known as a destructor, defines actions to be performed when garbage is collected from an object. It's called automatically when all references to an object have been deleted, and the object is about to be removed from memory. The primary significance of __del__ lies in its ability to manage resource cleanup, such as closing files or releasing external connections that the object might have held.\n",
        "\n",
        "However, relying solely on __del__ for resource management is generally discouraged due to its unpredictable timing and potential issues with circular. References. It's recommended to use context managers or explicit close() methods for more reliable resource handling."
      ],
      "metadata": {
        "id": "80454DM4UsIH"
      }
    },
    {
      "cell_type": "markdown",
      "source": [
        "6. What is the difference between import and from ...import in Python?\n",
        " - The import statement and the from ... import statement in Python serve the purpose of accessing external code, but they differ in how they make the imported elements available within the current scope.\n",
        "\n",
        "import module_name:\n",
        "\n",
        "This statement imports the entire module, creating a namespace for it. To access items within the module, one must use the module name as a prefix (e.g., module_name.function_name).\n",
        "\n",
        "from module_name import item_name:\n",
        "\n",
        "This statement imports specific items (functions, classes, variables) directly into the current namespace. These items can then be used without the module name prefix (e.g., function_name).\n",
        "The choice between these two forms depends on the specific situation and coding style preferences. Using import module_name can help avoid naming conflicts and makes it clear where a function or class originates from. On the other hand, from module_name import item_name can be more concise when only a few items from a module are needed. It's generally recommended to avoid from module_name import * as it can lead to namespace pollution and make code harder to understand."
      ],
      "metadata": {
        "id": "ZTbzcRc7VCcv"
      }
    },
    {
      "cell_type": "markdown",
      "source": [
        "7. How can you handle multiple exceptions in Python?\n",
        " - In Python, multiple exceptions can be handled using several approaches:\n",
        "Multiple except blocks: Each except block handles a specific exception type. If an exception occurs, Python checks each except block in order and executes the first one that matches the exception type.\n"
      ],
      "metadata": {
        "id": "UcXFHCIrVPzv"
      }
    },
    {
      "cell_type": "code",
      "source": [
        "try:\n",
        "    # Code that might raise exceptions\n",
        "    result = 10 / 0\n",
        "except ZeroDivisionError:\n",
        "    print(\"Cannot divide by zero\")\n",
        "except TypeError:\n",
        "    print(\"Type error occurred\")\n",
        "except Exception as e:\n",
        "    print(f\"An unexpected error occurred: {e}\")"
      ],
      "metadata": {
        "colab": {
          "base_uri": "https://localhost:8080/"
        },
        "id": "2XoaK9f-XU6V",
        "outputId": "6d7467fb-989b-4c8b-a5d3-4696a91e3daa"
      },
      "execution_count": null,
      "outputs": [
        {
          "output_type": "stream",
          "name": "stdout",
          "text": [
            "Cannot divide by zero\n"
          ]
        }
      ]
    },
    {
      "cell_type": "markdown",
      "source": [
        "Single except block with a tuple of exceptions: This approach handles multiple exception types with the same code block."
      ],
      "metadata": {
        "id": "8pg2djvbXdAA"
      }
    },
    {
      "cell_type": "code",
      "source": [
        "try:\n",
        "    # Code that might raise exceptions\n",
        "    value = int(\"abc\")\n",
        "except (ValueError, TypeError) as e:\n",
        "    print(f\"Invalid input: {e}\")"
      ],
      "metadata": {
        "colab": {
          "base_uri": "https://localhost:8080/"
        },
        "id": "6ujkJBZoXeGc",
        "outputId": "28497118-984e-428e-98d7-88e54e8bc4a4"
      },
      "execution_count": null,
      "outputs": [
        {
          "output_type": "stream",
          "name": "stdout",
          "text": [
            "Invalid input: invalid literal for int() with base 10: 'abc'\n"
          ]
        }
      ]
    },
    {
      "cell_type": "markdown",
      "source": [
        "except* clause (Python 3.11+): This is used to handle ExceptionGroup, which allows for catching multiple exceptions that are raised together."
      ],
      "metadata": {
        "id": "qaadYftzXhk8"
      }
    },
    {
      "cell_type": "code",
      "source": [
        "try:\n",
        "    raise ExceptionGroup(\"Multiple errors\", [ValueError(\"Invalid value\"), TypeError(\"Invalid type\")])\n",
        "except* ValueError as e:\n",
        "    print(f\"Value error: {e.exceptions}\")\n",
        "except* TypeError as e:\n",
        "    print(f\"Type error: {e.exceptions}\")"
      ],
      "metadata": {
        "colab": {
          "base_uri": "https://localhost:8080/"
        },
        "id": "bZOsGIB1Xn-h",
        "outputId": "7809e759-76e8-49ab-8fa2-169cb509bc6f"
      },
      "execution_count": null,
      "outputs": [
        {
          "output_type": "stream",
          "name": "stdout",
          "text": [
            "Value error: (ValueError('Invalid value'),)\n",
            "Type error: (TypeError('Invalid type'),)\n"
          ]
        }
      ]
    },
    {
      "cell_type": "markdown",
      "source": [
        "Nested try...except blocks: This allows for handling exceptions in a hierarchical manner, where specific exceptions can be caught within inner try blocks, and more general exceptions in outer blocks."
      ],
      "metadata": {
        "id": "-qAM4QUiXvIz"
      }
    },
    {
      "cell_type": "code",
      "source": [
        "for i in (1, 0, 'z'):\n",
        "    try:\n",
        "        try:\n",
        "            print(i, end=' ')\n",
        "            x = 1 / i\n",
        "            print(x)\n",
        "        except TypeError as e:\n",
        "            print(e)\n",
        "            raise\n",
        "        except ZeroDivisionError as e:\n",
        "            print(e)\n",
        "            raise\n",
        "    except (TypeError, ZeroDivisionError) as e:\n",
        "        print('Common stuff', e)"
      ],
      "metadata": {
        "colab": {
          "base_uri": "https://localhost:8080/"
        },
        "id": "dKU7mdsiX12S",
        "outputId": "c8928d5e-544a-48a0-d4e2-b1781e634433"
      },
      "execution_count": null,
      "outputs": [
        {
          "output_type": "stream",
          "name": "stdout",
          "text": [
            "1 1.0\n",
            "0 division by zero\n",
            "Common stuff division by zero\n",
            "z unsupported operand type(s) for /: 'int' and 'str'\n",
            "Common stuff unsupported operand type(s) for /: 'int' and 'str'\n"
          ]
        }
      ]
    },
    {
      "cell_type": "markdown",
      "source": [
        "8. What is the purpose of the with statement when handling files in Python?\n",
        " - The with statement in Python serves to streamline resource management, particularly when working with files. It ensures that files are properly opened and closed, even if errors occur during processing. This is achieved through the concept of context managers. When a file is opened using the with statement, Python automatically takes care of calling the __enter__ method when the block is entered and the __exit__ method when the block is exited, regardless of whether an exception was raised or not. The __exit__ method ensures the file is closed."
      ],
      "metadata": {
        "id": "P5c9oob2VdQJ"
      }
    },
    {
      "cell_type": "code",
      "source": [
        "with open(\"my_file.txt\", \"r\") as file:\n",
        "    data = file.read()\n",
        "    # Process the data\n",
        "# File is automatically closed here"
      ],
      "metadata": {
        "colab": {
          "base_uri": "https://localhost:8080/",
          "height": 193
        },
        "id": "RbRWOldyYFzy",
        "outputId": "589928c2-9617-4faa-c34b-c8cb2aad3488"
      },
      "execution_count": null,
      "outputs": [
        {
          "output_type": "error",
          "ename": "FileNotFoundError",
          "evalue": "[Errno 2] No such file or directory: 'my_file.txt'",
          "traceback": [
            "\u001b[0;31m---------------------------------------------------------------------------\u001b[0m",
            "\u001b[0;31mFileNotFoundError\u001b[0m                         Traceback (most recent call last)",
            "\u001b[0;32m<ipython-input-7-edefa43ff7ac>\u001b[0m in \u001b[0;36m<cell line: 0>\u001b[0;34m()\u001b[0m\n\u001b[0;32m----> 1\u001b[0;31m \u001b[0;32mwith\u001b[0m \u001b[0mopen\u001b[0m\u001b[0;34m(\u001b[0m\u001b[0;34m\"my_file.txt\"\u001b[0m\u001b[0;34m,\u001b[0m \u001b[0;34m\"r\"\u001b[0m\u001b[0;34m)\u001b[0m \u001b[0;32mas\u001b[0m \u001b[0mfile\u001b[0m\u001b[0;34m:\u001b[0m\u001b[0;34m\u001b[0m\u001b[0;34m\u001b[0m\u001b[0m\n\u001b[0m\u001b[1;32m      2\u001b[0m     \u001b[0mdata\u001b[0m \u001b[0;34m=\u001b[0m \u001b[0mfile\u001b[0m\u001b[0;34m.\u001b[0m\u001b[0mread\u001b[0m\u001b[0;34m(\u001b[0m\u001b[0;34m)\u001b[0m\u001b[0;34m\u001b[0m\u001b[0;34m\u001b[0m\u001b[0m\n\u001b[1;32m      3\u001b[0m     \u001b[0;31m# Process the data\u001b[0m\u001b[0;34m\u001b[0m\u001b[0;34m\u001b[0m\u001b[0m\n\u001b[1;32m      4\u001b[0m \u001b[0;31m# File is automatically closed here\u001b[0m\u001b[0;34m\u001b[0m\u001b[0;34m\u001b[0m\u001b[0m\n",
            "\u001b[0;31mFileNotFoundError\u001b[0m: [Errno 2] No such file or directory: 'my_file.txt'"
          ]
        }
      ]
    },
    {
      "cell_type": "markdown",
      "source": [
        "Without the with statement, the equivalent code would require a try...finally block to ensure the file is closed:"
      ],
      "metadata": {
        "id": "ME03kOBhYN06"
      }
    },
    {
      "cell_type": "code",
      "source": [
        "file = open(\"my_file.txt\", \"r\")\n",
        "try:\n",
        "    data = file.read()\n",
        "    # Process the data\n",
        "finally:\n",
        "    file.close()"
      ],
      "metadata": {
        "colab": {
          "base_uri": "https://localhost:8080/",
          "height": 211
        },
        "id": "3I78ao8qYUoP",
        "outputId": "25effc05-1555-4df6-d4cf-068a205dfd05"
      },
      "execution_count": null,
      "outputs": [
        {
          "output_type": "error",
          "ename": "FileNotFoundError",
          "evalue": "[Errno 2] No such file or directory: 'my_file.txt'",
          "traceback": [
            "\u001b[0;31m---------------------------------------------------------------------------\u001b[0m",
            "\u001b[0;31mFileNotFoundError\u001b[0m                         Traceback (most recent call last)",
            "\u001b[0;32m<ipython-input-8-1a3d9246f9e9>\u001b[0m in \u001b[0;36m<cell line: 0>\u001b[0;34m()\u001b[0m\n\u001b[0;32m----> 1\u001b[0;31m \u001b[0mfile\u001b[0m \u001b[0;34m=\u001b[0m \u001b[0mopen\u001b[0m\u001b[0;34m(\u001b[0m\u001b[0;34m\"my_file.txt\"\u001b[0m\u001b[0;34m,\u001b[0m \u001b[0;34m\"r\"\u001b[0m\u001b[0;34m)\u001b[0m\u001b[0;34m\u001b[0m\u001b[0;34m\u001b[0m\u001b[0m\n\u001b[0m\u001b[1;32m      2\u001b[0m \u001b[0;32mtry\u001b[0m\u001b[0;34m:\u001b[0m\u001b[0;34m\u001b[0m\u001b[0;34m\u001b[0m\u001b[0m\n\u001b[1;32m      3\u001b[0m     \u001b[0mdata\u001b[0m \u001b[0;34m=\u001b[0m \u001b[0mfile\u001b[0m\u001b[0;34m.\u001b[0m\u001b[0mread\u001b[0m\u001b[0;34m(\u001b[0m\u001b[0;34m)\u001b[0m\u001b[0;34m\u001b[0m\u001b[0;34m\u001b[0m\u001b[0m\n\u001b[1;32m      4\u001b[0m     \u001b[0;31m# Process the data\u001b[0m\u001b[0;34m\u001b[0m\u001b[0;34m\u001b[0m\u001b[0m\n\u001b[1;32m      5\u001b[0m \u001b[0;32mfinally\u001b[0m\u001b[0;34m:\u001b[0m\u001b[0;34m\u001b[0m\u001b[0;34m\u001b[0m\u001b[0m\n",
            "\u001b[0;31mFileNotFoundError\u001b[0m: [Errno 2] No such file or directory: 'my_file.txt'"
          ]
        }
      ]
    },
    {
      "cell_type": "markdown",
      "source": [
        "The with statement simplifies the code and reduces the risk of resource leaks caused by forgetting to close files."
      ],
      "metadata": {
        "id": "lJF2dymnYdHI"
      }
    },
    {
      "cell_type": "markdown",
      "source": [
        "9. What is the difference between multithreading and multiprocessing?\n",
        " - Multithreading and multiprocessing are both techniques to run multiple tasks concurrently, but they differ in how they achieve this. Multithreading creates multiple threads within a single process, allowing for concurrent execution within that process, while multiprocessing creates multiple processes, each with its own resources, enabling parallel execution across multiple processors.\n",
        "\n",
        "Here's a more detailed breakdown:\n",
        "\n",
        "Multithreading:\n",
        "\n",
        "Creates multiple threads within a single process.\n",
        "\n",
        "Threads within a process share the same memory space and resources.\n",
        "\n",
        "Can be more efficient for tasks that involve a lot of inter-process communication because of the shared memory.\n",
        "\n",
        "May be limited by the \"Global Interpreter Lock\" (GIL) in certain languages, Preventing true parallelism.\n",
        "\n",
        "Multiprocessing:\n",
        "\n",
        "Creates multiple processes, each with its own memory space and resources.\n",
        "\n",
        "Processes can run independently and in parallel on different processors.\n",
        "\n",
        "More memory-intensive due to the creation of separate processes.\n",
        "\n",
        "Better suited for CPU-bound tasks that can be divided into independent subtasks."
      ],
      "metadata": {
        "id": "Eh1dm8VcVvGt"
      }
    },
    {
      "cell_type": "markdown",
      "source": [
        "10. What are the advantages of using logging in a program?\n",
        " - Logging offers significant advantages in software development, including improved debugging, easier troubleshooting, enhanced system observability, and better communication between developers and administrators. It provides a record of events, helping identify issues, understand system behavior, and optimize performance.\n",
        "\n",
        "Here's a more detailed look at the benefits:\n",
        "\n",
        "1. Debugging and Troubleshooting:\n",
        "\n",
        "Logs provide a trail of information, making it easier to pinpoint the source of errors and unexpected behavior.\n",
        "\n",
        "They capture details like stack traces, data being processed, and timestamps, which are crucial for understanding the context of an error.\n",
        "\n",
        "Logs can be particularly helpful when debugging intermittent issues or errors that are difficult to reproduce in a controlled environment.\n",
        "\n",
        "2. System Observability:\n",
        "\n",
        "Logs provide a comprehensive view of what's happening within an application, helping developers and administrators understand its behavior and performance.\n",
        "\n",
        "They allow for real-time monitoring of system activity, enabling early detection of potential problems.\n",
        "\n",
        "Logs can be used to track system metrics, identify bottlenecks, and optimize performance.\n",
        "\n",
        "3. Communication and Collaboration:\n",
        "\n",
        "Logs serve as a single source of truth, allowing developers and administrators to understand exactly what's happening within the system.\n",
        "\n",
        "They facilitate efficient communication and collaboration during troubleshooting and problem-solving.\n",
        "\n",
        "Logs can be used to document system behavior, making it easier for new team members to understand the codebase.\n",
        "\n",
        "4. Security:\n",
        "\n",
        "Logs can be used to track user activity, identify potential security threats, and audit system access.\n",
        "\n",
        "They can be used to detect unauthorized access, suspicious activity, and other security incidents.\n",
        "\n",
        "Logs can be used to comply with security regulations and standards.\n",
        "\n",
        "5. Other Benefits:\n",
        "\n",
        "Logs can be used to generate reports, analyze usage patterns, and gather business intelligence.\n",
        "\n",
        "They can be used to identify common user mistakes and improve the user experience.\n",
        "\n",
        "Logs can be used to optimize application performance over time"
      ],
      "metadata": {
        "id": "0zdDGGwW0LPO"
      }
    },
    {
      "cell_type": "markdown",
      "source": [
        "11. What is memory management in Python?\n",
        " - Memory management in Python is the process of allocating and deallocating memory space for objects. Python utilizes a private heap to store objects and data structures, and the Python memory manager handles the allocation and deallocation of memory within this heap. This process is largely automated through a combination of reference counting and garbage collection.\n",
        "\n",
        "Reference counting tracks how many references point to an object. When the count drops to zero, the memory occupied by the object can be safely released. Garbage collection periodically identifies and reclaims memory occupied by Objects that are no longer accessible.\n",
        "\n",
        "Python's memory management also involves object-specific allocators that manage memory for different object types, ensuring efficient storage and retrieval."
      ],
      "metadata": {
        "id": "lrYM9d6JWMzK"
      }
    },
    {
      "cell_type": "markdown",
      "source": [
        "12. What are the basic steps involved in exception handling in Python?\n",
        " - Exception handling in Python involves a structured approach to manage runtime errors. The basic steps are as follows:\n",
        "\n",
        "Try Block:\n",
        "\n",
        "Enclose the code that might raise an exception within a try block. This signals to Python that this section of code needs to be monitored for potential errors\n",
        "\n",
        "Except Block(s):\n",
        "\n",
        "Follow the try block with one or more except blocks. Each except block specifies the type of exception it can handle. If an exception occurs in the try block, Python will search for a matching except block. If found, the code within that block will execute.\n",
        "\n",
        "Else Block (Optional):\n",
        "\n",
        "After the except blocks, an optional else block can be included. The code in the else block executes only if no exceptions were raised in the try block.\n",
        "\n",
        "Finally Block (Optional):\n",
        "\n",
        "The finally block, if present, is always executed, regardless of whether an exception occurred or not. It is typically used for cleanup actions like closing files or releasing resources.\n"
      ],
      "metadata": {
        "id": "HANrlWbIZvO1"
      }
    },
    {
      "cell_type": "code",
      "source": [
        "try:\n",
        "    # Code that might raise an exception\n",
        "    result = 10 / 0\n",
        "except ZeroDivisionError:\n",
        "    # Handle the specific exception\n",
        "    print(\"Error: Division by zero\")\n",
        "except Exception as e:\n",
        "    # Handle other exceptions\n",
        "    print(f\"An error occurred: {e}\")\n",
        "else:\n",
        "    # Code to execute if no exception occurs\n",
        "    print(\"Calculation successful\")\n",
        "finally:\n",
        "    # Code that always executes\n",
        "    print(\"Execution complete\")"
      ],
      "metadata": {
        "colab": {
          "base_uri": "https://localhost:8080/"
        },
        "id": "hfieJGDjd7hr",
        "outputId": "9628a790-fdec-4f35-a5f2-e0f5881312a3"
      },
      "execution_count": null,
      "outputs": [
        {
          "output_type": "stream",
          "name": "stdout",
          "text": [
            "Error: Division by zero\n",
            "Execution complete\n"
          ]
        }
      ]
    },
    {
      "cell_type": "markdown",
      "source": [
        "In this example, if a ZeroDivisionError occurs, the corresponding except block handles it. If any other exception occurs, the more general except block will catch it. If no exception occurs, the else block will execute. The finally block always executes, ensuring that cleanup or final actions are performed."
      ],
      "metadata": {
        "id": "b4DzCc51eAUq"
      }
    },
    {
      "cell_type": "markdown",
      "source": [
        "13. Why is memory management important in Python?\n",
        " - Memory management is important in Python for several reasons:\n",
        "\n",
        "Efficiency:\n",
        "\n",
        "Proper memory management ensures that programs use memory efficiently, preventing wastage and improving performance. If memory is not managed well, it can lead to slow processing and sluggish applications.\n",
        "\n",
        "Stability:\n",
        "\n",
        "Effective memory management helps prevent memory leaks, where memory is allocated but not released, eventually leading to program crashes. By managing memory correctly, Python programs can run more reliably over extended periods.\n",
        "\n",
        "Resource optimization:\n",
        "\n",
        "Efficient memory usage minimizes the demand on system resources, allowing other programs and processes to run smoothly. This is particularly crucial in environments with limited resources.\n",
        "\n",
        "Avoiding data corruption:\n",
        "\n",
        "Proper memory management ensures that data is stored and accessed correctly, preventing data corruption and ensuring the integrity of program operations.\n",
        "\n",
        "Automatic handling:\n",
        "\n",
        "Python's automatic memory management, including garbage collection, simplifies development by freeing programmers from manual memory allocation and deallocation. This reduces the risk of errors and makes code easier to write and maintain.\n",
        "\n",
        "Security:\n",
        "\n",
        "Memory protection, a part of memory management, prevents processes from accessing memory that is not allocated to them. This prevents bugs or malware within a process from affecting other processes or the operating system itself.\n",
        "\n",
        "Scalability:\n",
        "\n",
        "Efficient memory management is crucial for creating scalable applications that can handle large amounts of data and traffic. By optimizing memory usage, applications can handle more users and data without performance degradation."
      ],
      "metadata": {
        "id": "dH8Jl1VHZ8Th"
      }
    },
    {
      "cell_type": "markdown",
      "source": [
        "14. What is the role of try and except in exception handling?\n",
        " - In exception handling, try and except blocks work together to gracefully handle errors or exceptions that may occur during code execution. The try block contains the code that might potentially raise an exception, and the except block contains the code that will be executed if an exception is raised within the try block. This allows the program to continue running instead of crashing when an error occurs.\n",
        "\n",
        "Here's a breakdown:\n",
        "\n",
        "try block:\n",
        "\n",
        "This block contains the code where you expect an exception to potentially be raised. If no exception occurs, the code in the try block is executed normally.\n",
        "\n",
        "except block:\n",
        "\n",
        "This block is only executed if an exception is raised within the try block. It provides a mechanism to handle the exception, allowing the program to continue running instead of crashing. You can specify the type of exception you want to Handle in the except block, allowing you to catch and handle different types of errors in your code.\n",
        "\n",
        "In essence, the try block \"attempts\" to execute a block of code, while the except block \"catches\" any exceptions that might arise during that attempt, enabling your program to handle errors gracefully."
      ],
      "metadata": {
        "id": "NJ0Yt1SRaZF1"
      }
    },
    {
      "cell_type": "markdown",
      "source": [
        "16. What is the purpose of the else block in exception handling?\n",
        " - The else block in exception handling, often used in try...except...else structures, executes only when no exceptions are raised within the try block. It provides a way to execute code that's intended to run when the try block executes successfully, effectively separating normal execution from exception handling.\n",
        "\n",
        "Elaboration:\n",
        "\n",
        "Purpose:\n",
        " The else block allows you to execute specific code when the try block's operations are successful and no errors occur.\n",
        "\n",
        "Syntax:\n",
        " In many languages, the else block follows the try and except blocks.\n",
        "\n",
        "Example (Python):"
      ],
      "metadata": {
        "id": "uStS8TJVawsl"
      }
    },
    {
      "cell_type": "code",
      "source": [
        "    try:\n",
        "        number = 10 / 2\n",
        "        print(number)\n",
        "    except ZeroDivisionError:\n",
        "        print(\"Cannot divide by zero\")\n",
        "    else:\n",
        "        print(\"Division successful\")\n",
        "    finally:\n",
        "        print(\"This always executes\")"
      ],
      "metadata": {
        "colab": {
          "base_uri": "https://localhost:8080/"
        },
        "id": "fPfxNcc3fyxc",
        "outputId": "fe14505f-1042-409c-c19e-d5a7d95e8020"
      },
      "execution_count": null,
      "outputs": [
        {
          "output_type": "stream",
          "name": "stdout",
          "text": [
            "5.0\n",
            "Division successful\n",
            "This always executes\n"
          ]
        }
      ]
    },
    {
      "cell_type": "markdown",
      "source": [
        "In this example, the else block's code (\"Division successful\") will only be executed if the division in the try block succeeds without raising a ZeroDivisionError.\n",
        "\n",
        "Benefits:\n",
        "\n",
        "Code Clarity:\n",
        " It clearly separates the code that runs on successful execution from error handling.\n",
        "\n",
        "Reduced Complexity:\n",
        "It avoids repeating code that should only run on success within both the try and except blocks, making the code more concise.\n",
        "\n",
        "Improved Readability:\n",
        " It makes it easier to understand the flow of execution when no exceptions are raised."
      ],
      "metadata": {
        "id": "JZRG5gZDf4uN"
      }
    },
    {
      "cell_type": "markdown",
      "source": [
        "17. What are the common logging levels in Python?\n",
        "Python's logging module provides a standard way to incorporate logging into applications. It defines several logging levels, each representing the severity of a log message. These levels, in ascending order of severity, are:\n",
        "\n",
        "DEBUG (10): Detailed information, typically used for diagnosing problems.\n",
        "\n",
        "INFO (20): General information confirming that things are working as expected.\n",
        "\n",
        "WARNING (30): Indicates that something unexpected happened or might happen in The near future.\n",
        "\n",
        "ERROR (40): Signifies that a more serious problem occurred, and the software was unable to perform some function.\n",
        "\n",
        "CRITICAL (50): Denotes a critical error, indicating that the program itself may be unable to continue running.\n",
        "\n",
        "NOTSET (0): When a level is not explicitly set, it defaults to this value.\n",
        "\n",
        "When configuring the logging level, messages of that level and higher severity will be logged. For instance, if the logging level is set to WARNING, then WARNING, ERROR, and CRITICAL messages will be recorded, but DEBUG and INFO messages will be ignored"
      ],
      "metadata": {
        "id": "q1ywssb5a9d2"
      }
    },
    {
      "cell_type": "markdown",
      "source": [
        "18. What is the difference between os.fork() and multiprocessing in Python?\n",
        "\n",
        "\n",
        "I have this code :\n"
      ],
      "metadata": {
        "id": "TcyUnnSwbNEL"
      }
    },
    {
      "cell_type": "code",
      "source": [
        "import os\n",
        "\n",
        "pid = os.fork()\n",
        "\n",
        "if pid == 0:\n",
        "    os.environ['HOME'] = \"rep1\"\n",
        "    external_function()\n",
        "else:\n",
        "    os.environ['HOME'] = \"rep2\"\n",
        "    external_function()"
      ],
      "metadata": {
        "colab": {
          "base_uri": "https://localhost:8080/",
          "height": 176
        },
        "id": "EeMvmgcHiQQC",
        "outputId": "f32329a9-cf6d-4dcf-e5e1-1530dc88e625"
      },
      "execution_count": null,
      "outputs": [
        {
          "output_type": "error",
          "ename": "NameError",
          "evalue": "name 'external_function' is not defined",
          "traceback": [
            "\u001b[0;31m---------------------------------------------------------------------------\u001b[0m",
            "\u001b[0;31mNameError\u001b[0m                                 Traceback (most recent call last)",
            "\u001b[0;32m<ipython-input-11-c944f28ff5e6>\u001b[0m in \u001b[0;36m<cell line: 0>\u001b[0;34m()\u001b[0m\n\u001b[1;32m      8\u001b[0m \u001b[0;32melse\u001b[0m\u001b[0;34m:\u001b[0m\u001b[0;34m\u001b[0m\u001b[0;34m\u001b[0m\u001b[0m\n\u001b[1;32m      9\u001b[0m     \u001b[0mos\u001b[0m\u001b[0;34m.\u001b[0m\u001b[0menviron\u001b[0m\u001b[0;34m[\u001b[0m\u001b[0;34m'HOME'\u001b[0m\u001b[0;34m]\u001b[0m \u001b[0;34m=\u001b[0m \u001b[0;34m\"rep2\"\u001b[0m\u001b[0;34m\u001b[0m\u001b[0;34m\u001b[0m\u001b[0m\n\u001b[0;32m---> 10\u001b[0;31m     \u001b[0mexternal_function\u001b[0m\u001b[0;34m(\u001b[0m\u001b[0;34m)\u001b[0m\u001b[0;34m\u001b[0m\u001b[0;34m\u001b[0m\u001b[0m\n\u001b[0m",
            "\u001b[0;31mNameError\u001b[0m: name 'external_function' is not defined"
          ]
        }
      ]
    },
    {
      "cell_type": "markdown",
      "source": [
        "and this code"
      ],
      "metadata": {
        "id": "QJyVhZUliZEr"
      }
    },
    {
      "cell_type": "code",
      "source": [
        "from multiprocessing import Process, Pipe\n",
        "\n",
        "def f(conn):\n",
        "    os.environ['HOME'] = \"rep1\"\n",
        "    external_function()\n",
        "    conn.send(some_data)\n",
        "    conn.close()\n",
        "\n",
        "if __name__ == '__main__':\n",
        "    os.environ['HOME'] = \"rep2\"\n",
        "    external_function()\n",
        "    parent_conn, child_conn = Pipe()\n",
        "    p = Process(target=f, args=(child_conn,))\n",
        "    p.start()\n",
        "    print parent_conn.recv()\n",
        "    p.join()"
      ],
      "metadata": {
        "colab": {
          "base_uri": "https://localhost:8080/",
          "height": 106
        },
        "id": "0_dKR80xibHZ",
        "outputId": "9eba9fbe-b58a-4a8a-c274-093311b6bf45"
      },
      "execution_count": null,
      "outputs": [
        {
          "output_type": "error",
          "ename": "SyntaxError",
          "evalue": "Missing parentheses in call to 'print'. Did you mean print(...)? (<ipython-input-12-4c48cf73195f>, line 15)",
          "traceback": [
            "\u001b[0;36m  File \u001b[0;32m\"<ipython-input-12-4c48cf73195f>\"\u001b[0;36m, line \u001b[0;32m15\u001b[0m\n\u001b[0;31m    print parent_conn.recv()\u001b[0m\n\u001b[0m    ^\u001b[0m\n\u001b[0;31mSyntaxError\u001b[0m\u001b[0;31m:\u001b[0m Missing parentheses in call to 'print'. Did you mean print(...)?\n"
          ]
        }
      ]
    },
    {
      "cell_type": "markdown",
      "source": [
        "The external_function initializes an external programs by creating the necessary sub-directories in the directory found in the environment variable HOME. This function does this work only once in each process.\n",
        "\n",
        "\n",
        "With the first example, which uses os.fork(), the directories are created as expected. But with second example, which uses multiprocessing, only the directories in rep2 get created."
      ],
      "metadata": {
        "id": "znSjnkKjio1q"
      }
    },
    {
      "cell_type": "markdown",
      "source": [
        "19. What is the importance of closing a file in Python?\n",
        "- Closing a file in Python is important for several reasons:\n",
        "\n",
        "Resource Management:\n",
        "\n",
        "Operating systems limit the number of files a program can have open simultaneously. Failing to close files can lead to resource leaks, potentially causing the program to crash or become unstable, especially when dealing with numerous files.\n",
        "\n",
        "Data Integrity:\n",
        "\n",
        "When writing to a file, data is often buffered in memory before being written to the disk. Closing the file ensures that all buffered data is flushed and written completely, preventing data loss or corruption.\n",
        "\n",
        "File Access:\n",
        "\n",
        "An open file might be locked by the operating system, preventing other programs or processes from accessing or modifying it. Closing the file releases the lock, allowing other applications to interact with it.\n",
        "\n",
        "Best Practice:\n",
        "\n",
        "Closing files is considered good programming practice, promoting code maintainability and preventing potential issues that might arise from leaving files open unintentionally.\n",
        "\n",
        "Python provides the close() method to explicitly close a file. It is also recommended to use the with statement, which automatically handles file closing, even if exceptions occur."
      ],
      "metadata": {
        "id": "f7QNFPG5bdjC"
      }
    },
    {
      "cell_type": "code",
      "source": [
        "try:\n",
        "    file = open(\"my_file.txt\", \"w\")\n",
        "    file.write(\"Hello, world!\")\n",
        "except IOError as e:\n",
        "    print(f\"An error occurred: {e}\")\n",
        "finally:\n",
        "    file.close()"
      ],
      "metadata": {
        "id": "6U00fIHZjOAd"
      },
      "execution_count": null,
      "outputs": []
    },
    {
      "cell_type": "code",
      "source": [
        "with open(\"my_file.txt\", \"w\") as file:\n",
        "    file.write(\"Hello, world!\")"
      ],
      "metadata": {
        "id": "ILSdydd5jRbg"
      },
      "execution_count": null,
      "outputs": []
    },
    {
      "cell_type": "markdown",
      "source": [
        "In the first example, the finally block ensures that the file is closed regardless of whether an exception occurs. The second example utilizes the with statement, which automatically closes the file once the block is exited, providing a more concise and safer way to handle file operations."
      ],
      "metadata": {
        "id": "XaKkfF-wjp-g"
      }
    },
    {
      "cell_type": "markdown",
      "source": [
        "20. What is the difference between file.read() and file.readline() in Python?\n",
        " - The key differences between file.read() and file.readline() in Python are how much data they read and what format they return:\n",
        "\n",
        "file.read():\n",
        "\n",
        "This method reads the entire file content as a single string. If a size argument is provided (e.g., file.read(10)), it reads up to that number of bytes. If no size argument is given, it reads the entire file. It is suitable for smaller files that can be loaded into memory entirely.\n",
        "\n",
        "file.readline():\n",
        "\n",
        "This method reads a single line from the file, including the newline character (\\n) at the end, and returns it as a string. Each subsequent call to readline() will read the next line in the file. If the end of the file is reached, it returns an empty string. It is useful for processing large files line by line, as it doesn't load the entire file into memory at once."
      ],
      "metadata": {
        "id": "dpAeyYHWb7CX"
      }
    },
    {
      "cell_type": "code",
      "source": [
        "with open(\"my_file.txt\", \"r\") as file:\n",
        "    # Read the entire file\n",
        "    content = file.read()\n",
        "    print(\"Read entire file:\", content)\n",
        "\n",
        "    # Reset file pointer to the beginning\n",
        "    file.seek(0)\n",
        "\n",
        "    # Read one line at a time\n",
        "    line1 = file.readline()\n",
        "    print(\"Read line 1:\", line1)\n",
        "    line2 = file.readline()\n",
        "    print(\"Read line 2:\", line2)"
      ],
      "metadata": {
        "colab": {
          "base_uri": "https://localhost:8080/"
        },
        "id": "7I3pnJ0E11VL",
        "outputId": "486c6f84-6a9c-4888-bab0-591a8805c836"
      },
      "execution_count": null,
      "outputs": [
        {
          "output_type": "stream",
          "name": "stdout",
          "text": [
            "Read entire file: Hello, world!\n",
            "Read line 1: Hello, world!\n",
            "Read line 2: \n"
          ]
        }
      ]
    },
    {
      "cell_type": "markdown",
      "source": [
        "21. What is the logging module in Python used for?\n",
        " -  The logging module in Python is used for recording events and debugging issues during application execution. It provides a flexible system for logging messages, including errors, warnings, and informational messages, to various output destinations like files or the console.\n",
        "\n",
        "Here's a more detailed explanation:\n",
        "\n",
        "Event Tracking:\n",
        "\n",
        "Logging allows developers to track what happens while a program is running, including errors, warnings, and other notable events.\n",
        "\n",
        "Debugging:\n",
        "\n",
        "It helps developers identify the root cause of issues by providing a detailed record of the application's execution.\n",
        "\n",
        "Logging can be used to monitor the health and performance of an application over time.\n",
        "\n",
        "Flexibility:\n",
        "\n",
        "The logging module offers a wide range of options for configuring log messages, including log levels, formatters, and handlers.\n",
        "\n",
        "Output Destinations:\n",
        "\n",
        "Log messages can be directed to various output destinations, such as files, the console, or even other applications."
      ],
      "metadata": {
        "id": "AokLdVwicJ7b"
      }
    },
    {
      "cell_type": "markdown",
      "source": [
        "22. What is the os module in Python used for i file handling?\n",
        " - Python has a built-in os module with methods for interacting with the operating system, like creating files and directories, management of files and directories, input, output, environment variables, process management, etc."
      ],
      "metadata": {
        "id": "jH7ufZG1cT6Y"
      }
    },
    {
      "cell_type": "markdown",
      "source": [
        "23. What are the challenges associated with memory management in Python?\n",
        " - Python's automatic memory management, while simplifying development, introduces several challenges:\n",
        "\n",
        "Garbage Collection Overhead:\n",
        "\n",
        "Python uses garbage collection to reclaim unused memory. This process, although automatic, can introduce performance overhead, especially with frequent or large collections.\n",
        "\n",
        "Memory Leaks:\n",
        "\n",
        "Despite garbage collection, memory leaks can occur, particularly with circular references where objects refer to each other, preventing them from being collected.\n",
        "\n",
        "Memory Fragmentation:\n",
        "\n",
        "Dynamic memory allocation can lead to fragmentation, where free memory is scattered, making it difficult to allocate large contiguous blocks.\n",
        "\n",
        "High Memory Consumption:\n",
        "\n",
        "Python's dynamic typing and object-oriented nature can result in higher memory consumption compared to languages with manual memory management.\n",
        "\n",
        "Limited Control:\n",
        "\n",
        "Developers have limited control over memory management, making it challenging to optimize memory usage for specific applications.\n",
        "\n",
        "Multithreading Issues:\n",
        "\n",
        "Python's Global Interpreter Lock (GIL) can complicate memory management in multithreaded applications, potentially leading to race conditions when accessing and modifying memory.\n",
        "\n",
        "Memory Errors:\n",
        "\n",
        "When dealing with large datasets or inefficient code, Python programs can Encounter memory errors such as MemoryError, indicating insufficient memory.\n",
        "\n",
        "Difficulty in Predicting Allocation Time:\n",
        "\n",
        "Dynamic memory allocation can be non-deterministic, making it hard to predict the time taken to allocate memory.\n",
        "\n",
        "Addressing these challenges often involves techniques such as memory profiling, using data structures efficiently, and minimizing unnecessary object creation."
      ],
      "metadata": {
        "id": "bJsZk4o-chFL"
      }
    },
    {
      "cell_type": "markdown",
      "source": [
        "24. How do you raise an exception manually in Python?\n",
        " - To raise an exception manually in Python, the raise keyword is used, followed by the exception class or instance that is being raised. Optionally, a custom error message can be included to provide more context about the exception.\n"
      ],
      "metadata": {
        "id": "PIk1kkrGczmo"
      }
    },
    {
      "cell_type": "code",
      "source": [
        "raise Exception(\"This is a generic exception.\")\n",
        "\n",
        "raise ValueError(\"Invalid value provided.\")\n",
        "\n",
        "raise TypeError(\"Incorrect data type used.\")\n",
        "\n",
        "x = -1\n",
        "if x < 0:\n",
        "  raise Exception(\"No numbers below zero\")"
      ],
      "metadata": {
        "colab": {
          "base_uri": "https://localhost:8080/",
          "height": 211
        },
        "id": "w31xvTby28R9",
        "outputId": "f09c4ba2-7bc4-4fcb-bea2-140a9438b7aa"
      },
      "execution_count": null,
      "outputs": [
        {
          "output_type": "error",
          "ename": "Exception",
          "evalue": "This is a generic exception.",
          "traceback": [
            "\u001b[0;31m---------------------------------------------------------------------------\u001b[0m",
            "\u001b[0;31mException\u001b[0m                                 Traceback (most recent call last)",
            "\u001b[0;32m<ipython-input-7-3704d9e7173c>\u001b[0m in \u001b[0;36m<cell line: 0>\u001b[0;34m()\u001b[0m\n\u001b[0;32m----> 1\u001b[0;31m \u001b[0;32mraise\u001b[0m \u001b[0mException\u001b[0m\u001b[0;34m(\u001b[0m\u001b[0;34m\"This is a generic exception.\"\u001b[0m\u001b[0;34m)\u001b[0m\u001b[0;34m\u001b[0m\u001b[0;34m\u001b[0m\u001b[0m\n\u001b[0m\u001b[1;32m      2\u001b[0m \u001b[0;34m\u001b[0m\u001b[0m\n\u001b[1;32m      3\u001b[0m \u001b[0;32mraise\u001b[0m \u001b[0mValueError\u001b[0m\u001b[0;34m(\u001b[0m\u001b[0;34m\"Invalid value provided.\"\u001b[0m\u001b[0;34m)\u001b[0m\u001b[0;34m\u001b[0m\u001b[0;34m\u001b[0m\u001b[0m\n\u001b[1;32m      4\u001b[0m \u001b[0;34m\u001b[0m\u001b[0m\n\u001b[1;32m      5\u001b[0m \u001b[0;32mraise\u001b[0m \u001b[0mTypeError\u001b[0m\u001b[0;34m(\u001b[0m\u001b[0;34m\"Incorrect data type used.\"\u001b[0m\u001b[0;34m)\u001b[0m\u001b[0;34m\u001b[0m\u001b[0;34m\u001b[0m\u001b[0m\n",
            "\u001b[0;31mException\u001b[0m: This is a generic exception."
          ]
        }
      ]
    },
    {
      "cell_type": "markdown",
      "source": [
        "When raising an exception, it's recommended to use specific exception types that accurately represent the error condition. This allows for more precise error handling and debugging. If a suitable built-in exception type doesn't exist, a custom exception class can be defined by inheriting from the base Exception class."
      ],
      "metadata": {
        "id": "wWcLv2isobSX"
      }
    },
    {
      "cell_type": "code",
      "source": [
        "class MyCustomError(Exception):\n",
        "    def __init__(self, message):\n",
        "        self.message = message\n",
        "        super().__init__(self.message)\n",
        "\n",
        "raise MyCustomError(\"This is a custom exception.\")"
      ],
      "metadata": {
        "id": "cDrpsDohocXr",
        "colab": {
          "base_uri": "https://localhost:8080/",
          "height": 176
        },
        "outputId": "2337756e-7878-4b49-decd-20a3dbf3846e"
      },
      "execution_count": null,
      "outputs": [
        {
          "output_type": "error",
          "ename": "MyCustomError",
          "evalue": "This is a custom exception.",
          "traceback": [
            "\u001b[0;31m---------------------------------------------------------------------------\u001b[0m",
            "\u001b[0;31mMyCustomError\u001b[0m                             Traceback (most recent call last)",
            "\u001b[0;32m<ipython-input-8-6163261fd9d6>\u001b[0m in \u001b[0;36m<cell line: 0>\u001b[0;34m()\u001b[0m\n\u001b[1;32m      4\u001b[0m         \u001b[0msuper\u001b[0m\u001b[0;34m(\u001b[0m\u001b[0;34m)\u001b[0m\u001b[0;34m.\u001b[0m\u001b[0m__init__\u001b[0m\u001b[0;34m(\u001b[0m\u001b[0mself\u001b[0m\u001b[0;34m.\u001b[0m\u001b[0mmessage\u001b[0m\u001b[0;34m)\u001b[0m\u001b[0;34m\u001b[0m\u001b[0;34m\u001b[0m\u001b[0m\n\u001b[1;32m      5\u001b[0m \u001b[0;34m\u001b[0m\u001b[0m\n\u001b[0;32m----> 6\u001b[0;31m \u001b[0;32mraise\u001b[0m \u001b[0mMyCustomError\u001b[0m\u001b[0;34m(\u001b[0m\u001b[0;34m\"This is a custom exception.\"\u001b[0m\u001b[0;34m)\u001b[0m\u001b[0;34m\u001b[0m\u001b[0;34m\u001b[0m\u001b[0m\n\u001b[0m",
            "\u001b[0;31mMyCustomError\u001b[0m: This is a custom exception."
          ]
        }
      ]
    },
    {
      "cell_type": "markdown",
      "source": [
        "25. Why is it important to use multithreading in creating applications?\n",
        " - Multithreading is important in application development because it enables concurrent execution of multiple tasks within a single program, enhancing performance, responsiveness, and resource utilization. By breaking down tasks into smaller threads, applications can handle multiple operations simultaneously, improving efficiency and reducing the time it takes to complete tasks.\n",
        "\n",
        "Here's a more detailed explanation:\n",
        "\n",
        "Improved Performance:\n",
        "\n",
        "Multithreading allows applications to make better use of available CPU resources, particularly on multi-core processors, leading to faster execution times. By running different parts of the application concurrently, threads can overlap tasks, reducing overall execution time.\n",
        "\n",
        "Enhanced Responsiveness:\n",
        "\n",
        "Multithreading prevents applications from becoming unresponsive during long-running operations. By offloading time-consuming tasks to separate threads, the main application thread can remain responsive to user input.\n",
        "\n",
        "Improved Resource Utilization:\n",
        "\n",
        "Multithreading allows applications to make better use of available resources, such as CPU cores and memory, by distributing the workload among multiple threads.\n",
        "\n",
        "Concurrency and Scalability:\n",
        "\n",
        "Multithreading enables applications to handle multiple concurrent requests or users, making them more scalable and suitable for demanding environments.\n",
        "\n",
        "Simplified Code Structure:\n",
        "\n",
        "In some cases, multithreading can simplify the structure of the application by allowing different parts of the code to run concurrently, making it easier to manage and maintain.\n",
        "\n",
        "Efficient CPU Use:\n",
        "\n",
        "Multithreading can increase CPU utilization by filling gaps or stalls that may occur when a single thread is waiting for input/output or other resources.\n",
        "\n",
        "Improved System Reliability:\n",
        "\n",
        "By isolating different parts of the application into separate threads, multithreading can reduce the risk of one part of the application crashing or freezing the entire application."
      ],
      "metadata": {
        "id": "UOKKqRZmc_QB"
      }
    },
    {
      "cell_type": "markdown",
      "source": [
        "# **Practical Questions**"
      ],
      "metadata": {
        "id": "qATD8kolpwWr"
      }
    },
    {
      "cell_type": "markdown",
      "source": [
        "1. How can you open a file for writing in Python and write a string to it?\n",
        "\n",
        "\n"
      ],
      "metadata": {
        "id": "Hxv16swYp3h-"
      }
    },
    {
      "cell_type": "code",
      "source": [
        "# Open a file in write mode\n",
        "with open(\"example.txt\", \"w\") as file:\n",
        "    # Write a string to the file\n",
        "    file.write(\"Hello, this is a sample text!\")\n"
      ],
      "metadata": {
        "id": "hHIYXyRGvFDb"
      },
      "execution_count": null,
      "outputs": []
    },
    {
      "cell_type": "markdown",
      "source": [
        "Explanation:\n",
        "\n",
        "open(\"example.txt\", \"w\"):\n",
        " Opens the file example.txt in write mode. If the file doesn't exist, it will be created. If it exists, its content will be overwritten.\n",
        "\n",
        "with statement:\n",
        " Ensures the file is properly closed after the operation, even if an error occurs.\n",
        "\n",
        "file.write():\n",
        " Writes the specified string to the file.\n",
        "\n",
        "This is a safe and efficient way to handle file operations in Python.\n",
        "\n"
      ],
      "metadata": {
        "id": "hv65c9MS72kt"
      }
    },
    {
      "cell_type": "markdown",
      "source": [
        "2. Write a Python program to read the contents of a file and print each line."
      ],
      "metadata": {
        "id": "cE2ntU-Y8KjH"
      }
    },
    {
      "cell_type": "code",
      "source": [
        "# Open the file in read mode\n",
        "try:\n",
        "    with open(\"example.txt\", \"r\") as file:  # Replace 'example.txt' with your file name\n",
        "        # Read and print each line\n",
        "        for line in file:\n",
        "            print(line.strip())  # Use strip() to remove any trailing newline or whitespace\n",
        "except FileNotFoundError:\n",
        "    print(\"The file does not exist. Please check the file name and try again.\")\n",
        "except Exception as e:\n",
        "    print(f\"An error occurred: {e}\")\n"
      ],
      "metadata": {
        "colab": {
          "base_uri": "https://localhost:8080/"
        },
        "id": "IelbN5INGVmZ",
        "outputId": "47b4ee04-f971-4c50-b240-35995912eb29"
      },
      "execution_count": null,
      "outputs": [
        {
          "output_type": "stream",
          "name": "stdout",
          "text": [
            "Hello, this is a sample text!\n"
          ]
        }
      ]
    },
    {
      "cell_type": "markdown",
      "source": [
        "Explanation:\n",
        "\n",
        "with open(): Ensures the file is properly closed after reading.\n",
        "\n",
        "line.strip(): Removes unnecessary whitespace or newline characters.\n",
        "\n",
        "Error handling: Catches issues like missing files or other unexpected errors."
      ],
      "metadata": {
        "id": "kr4VSuvuGfIp"
      }
    },
    {
      "cell_type": "markdown",
      "source": [
        "3. How would you handle a case where the file doesn't exist while trying to open it for reading?"
      ],
      "metadata": {
        "id": "xygZ8wy-8gLG"
      }
    },
    {
      "cell_type": "markdown",
      "source": [
        "We first check if the file exists by calling os.path.exists(x). This returns True or False, allowing us to simply use it in an if statement. From there you can open the file for reading, or handle exiting as you like."
      ],
      "metadata": {
        "id": "nZmC7wjtG4op"
      }
    },
    {
      "cell_type": "code",
      "source": [
        "filename = 'yourfile.txt'\n",
        "try:\n",
        "    with open(filename, 'r') as file:\n",
        "        content = file.read()\n",
        "        print(content)\n",
        "except FileNotFoundError:\n",
        "    print(f\"Error: The file '{filename}' was not found.\")\n",
        "except IOError as e:\n",
        "    print(f\"Error: An IOError occurred: {e}\")"
      ],
      "metadata": {
        "colab": {
          "base_uri": "https://localhost:8080/"
        },
        "id": "wiemzyd7HJxO",
        "outputId": "739db666-1f59-4fe3-93e8-5d15a829eda3"
      },
      "execution_count": null,
      "outputs": [
        {
          "output_type": "stream",
          "name": "stdout",
          "text": [
            "Error: The file 'yourfile.txt' was not found.\n"
          ]
        }
      ]
    },
    {
      "cell_type": "markdown",
      "source": [
        "In this example:\n",
        "\n",
        "The with statement ensures the file is properly closed after reading.\n",
        "\n",
        "If the file does not exist, the FileNotFoundError exception is caught, and a user-friendly message is printed.\n",
        "\n",
        "Additional handling for other I/O errors can also be added."
      ],
      "metadata": {
        "id": "n4A8sxXtHTdL"
      }
    },
    {
      "cell_type": "markdown",
      "source": [
        "4. Write a Python script that reads from one file and writes its content to another file."
      ],
      "metadata": {
        "id": "50at6Pv3806-"
      }
    },
    {
      "cell_type": "code",
      "source": [
        "# File copy script\n",
        "def copy_file(source_file, destination_file):\n",
        "    try:\n",
        "        # Open the source file in read mode\n",
        "        with open(source_file, 'r') as source:\n",
        "            # Read the content of the source file\n",
        "            content = source.read()\n",
        "\n",
        "        # Open the destination file in write mode\n",
        "        with open(destination_file, 'w') as destination:\n",
        "            # Write the content to the destination file\n",
        "            destination.write(content)\n",
        "\n",
        "        print(f\"Content successfully copied from {source_file} to {destination_file}.\")\n",
        "    except FileNotFoundError:\n",
        "        print(f\"Error: The file '{source_file}' does not exist.\")\n",
        "    except Exception as e:\n",
        "        print(f\"An error occurred: {e}\")\n",
        "\n",
        "# Example usage\n",
        "source_file = 'source.txt'  # Replace with your source file name\n",
        "destination_file = 'destination.txt'  # Replace with your destination file name\n",
        "\n",
        "copy_file(source_file, destination_file)\n"
      ],
      "metadata": {
        "colab": {
          "base_uri": "https://localhost:8080/"
        },
        "id": "aHePD-YNHl6w",
        "outputId": "4dadf457-e5e3-4072-b778-2f456aa57bdd"
      },
      "execution_count": null,
      "outputs": [
        {
          "output_type": "stream",
          "name": "stdout",
          "text": [
            "Error: The file 'source.txt' does not exist.\n"
          ]
        }
      ]
    },
    {
      "cell_type": "markdown",
      "source": [
        "How it works:\n",
        "\n",
        "The script uses the open() function to open the source file in read mode ('r') and the destination file in write mode ('w').\n",
        "\n",
        "It reads the content of the source file using .read() and writes it to the destination file using .write().\n",
        "\n",
        "It handles errors like missing files gracefully with a try-except block."
      ],
      "metadata": {
        "id": "DlkuEXwjHw6_"
      }
    },
    {
      "cell_type": "markdown",
      "source": [
        "5. How would you catch and handle a division by zero error in Python?\n",
        " - In Python, you can catch and handle a division by zero error using a try-except block. The specific exception to catch is ZeroDivisionError. Here's an example:"
      ],
      "metadata": {
        "id": "4vtbbFeO9M1S"
      }
    },
    {
      "cell_type": "code",
      "source": [
        "try:\n",
        "    numerator = 10\n",
        "    denominator = 0\n",
        "    result = numerator / denominator\n",
        "    print(f\"The result is {result}\")\n",
        "except ZeroDivisionError:\n",
        "    print(\"Error: Division by zero is not allowed.\")\n"
      ],
      "metadata": {
        "colab": {
          "base_uri": "https://localhost:8080/"
        },
        "id": "CgcVtdiAIIVX",
        "outputId": "2a13db50-af3e-48cc-848c-89ec72353ac5"
      },
      "execution_count": null,
      "outputs": [
        {
          "output_type": "stream",
          "name": "stdout",
          "text": [
            "Error: Division by zero is not allowed.\n"
          ]
        }
      ]
    },
    {
      "cell_type": "markdown",
      "source": [
        "Explanation:\n",
        "\n",
        "try block: Contains the code that might raise an exception.\n",
        "\n",
        "except ZeroDivisionError: Catches the specific ZeroDivisionError and allows you to handle it gracefully.\n",
        "\n",
        "Alternative Example with User Input:"
      ],
      "metadata": {
        "id": "ZiOYxPA3IT0t"
      }
    },
    {
      "cell_type": "code",
      "source": [
        "try:\n",
        "    numerator = int(input(\"Enter numerator: \"))\n",
        "    denominator = int(input(\"Enter denominator: \"))\n",
        "    result = numerator / denominator\n",
        "    print(f\"The result is {result}\")\n",
        "except ZeroDivisionError:\n",
        "    print(\"Error: You cannot divide by zero. Please try again.\")\n",
        "except ValueError:\n",
        "    print(\"Error: Please enter valid numbers.\")\n"
      ],
      "metadata": {
        "colab": {
          "base_uri": "https://localhost:8080/"
        },
        "id": "KagTmW3YIa-5",
        "outputId": "f3868cd7-d64c-408b-c4d4-ee542825a41c"
      },
      "execution_count": null,
      "outputs": [
        {
          "output_type": "stream",
          "name": "stdout",
          "text": [
            "Enter numerator: 2\n",
            "Enter denominator: 4\n",
            "The result is 0.5\n"
          ]
        }
      ]
    },
    {
      "cell_type": "markdown",
      "source": [
        "Using finally for Cleanup"
      ],
      "metadata": {
        "id": "6WGmuTPxIooi"
      }
    },
    {
      "cell_type": "code",
      "source": [
        "try:\n",
        "    numerator = 10\n",
        "    denominator = 0\n",
        "    result = numerator / denominator\n",
        "except ZeroDivisionError:\n",
        "    print(\"Error: Division by zero occurred.\")\n",
        "finally:\n",
        "    print(\"Execution completed, whether an error occurred or not.\")\n"
      ],
      "metadata": {
        "colab": {
          "base_uri": "https://localhost:8080/"
        },
        "id": "mrCO0VVTItfr",
        "outputId": "c0667f10-08d0-45d4-dadb-abffd1afbe71"
      },
      "execution_count": null,
      "outputs": [
        {
          "output_type": "stream",
          "name": "stdout",
          "text": [
            "Error: Division by zero occurred.\n",
            "Execution completed, whether an error occurred or not.\n"
          ]
        }
      ]
    },
    {
      "cell_type": "markdown",
      "source": [
        "This ensures your program doesn't crash and provides a user-friendly way to handle errors."
      ],
      "metadata": {
        "id": "SBuOQSJjI23k"
      }
    },
    {
      "cell_type": "markdown",
      "source": [
        "6. Write a Python program that logs an error message to a log file when a division by zero exception occurs."
      ],
      "metadata": {
        "id": "jkWqHoqd9ZK7"
      }
    },
    {
      "cell_type": "code",
      "source": [
        "import logging\n",
        "\n",
        "# Set up logging\n",
        "logging.basicConfig(filename='error_log.txt', level=logging.ERROR,\n",
        "                    format='%(asctime)s - %(levelname)s - %(message)s')\n",
        "\n",
        "def divide(a, b):\n",
        "    try:\n",
        "        result = a / b\n",
        "        print(f\"Result: {result}\")\n",
        "    except ZeroDivisionError as e:\n",
        "        logging.error(\"Division by zero error: %s\", e)\n",
        "\n",
        "# Example usage\n",
        "divide(10, 0)\n"
      ],
      "metadata": {
        "colab": {
          "base_uri": "https://localhost:8080/"
        },
        "id": "wRtkY_OBJyW8",
        "outputId": "9050ed07-7b09-44fb-b369-e7c3c5cc0645"
      },
      "execution_count": null,
      "outputs": [
        {
          "output_type": "stream",
          "name": "stderr",
          "text": [
            "ERROR:root:Division by zero error: division by zero\n"
          ]
        }
      ]
    },
    {
      "cell_type": "markdown",
      "source": [
        "What it does:\n",
        "\n",
        "Logs the error with timestamp and severity.\n",
        "\n",
        "Creates or appends to error_log.txt."
      ],
      "metadata": {
        "id": "l5XjSWMoJ-0V"
      }
    },
    {
      "cell_type": "markdown",
      "source": [
        "7. How do you log information at different levels (INFO, ERROR, WARNING) in Python using the logging module?\n",
        " - In Python, the logging module provides different logging levels to indicate the severity of events. Here's how you can log messages at different levels:\n",
        "\n",
        "\n",
        "Common Logging Levels:\n",
        "\n",
        "DEBUG: Detailed information for diagnosing problems.\n",
        "\n",
        "INFO: Confirmation that things are working as expected.\n",
        "\n",
        "WARNING: An indication that something unexpected happened, but the program is still running.\n",
        "\n",
        "ERROR: A serious problem due to which some part of the program failed.\n",
        "\n",
        "CRITICAL: A very serious error that might stop the program.\n",
        "\n",
        "Example:\n",
        "python\n",
        "Copy\n",
        "Edit\n"
      ],
      "metadata": {
        "id": "ZU0cY4CI_xGZ"
      }
    },
    {
      "cell_type": "code",
      "source": [
        "import logging\n",
        "\n",
        "# Configure logging\n",
        "logging.basicConfig(level=logging.DEBUG,  # Set lowest level to capture all\n",
        "                    format='%(asctime)s - %(levelname)s - %(message)s',\n",
        "                    filename='app_log.txt')\n",
        "\n",
        "# Log messages at different levels\n",
        "logging.debug(\"This is a DEBUG message\")\n",
        "logging.info(\"This is an INFO message\")\n",
        "logging.warning(\"This is a WARNING message\")\n",
        "logging.error(\"This is an ERROR message\")\n",
        "logging.critical(\"This is a CRITICAL message\")\n"
      ],
      "metadata": {
        "colab": {
          "base_uri": "https://localhost:8080/"
        },
        "id": "GmxnHDJfKphl",
        "outputId": "478acbf3-d07f-4700-c783-102d80ea6873"
      },
      "execution_count": null,
      "outputs": [
        {
          "output_type": "stream",
          "name": "stderr",
          "text": [
            "WARNING:root:This is a WARNING message\n",
            "ERROR:root:This is an ERROR message\n",
            "CRITICAL:root:This is a CRITICAL message\n"
          ]
        }
      ]
    },
    {
      "cell_type": "markdown",
      "source": [
        "You can adjust the level in basicConfig() to control what gets logged. For example, set it to logging.WARNING to log only warnings and above."
      ],
      "metadata": {
        "id": "cJxTOOSxK3QJ"
      }
    },
    {
      "cell_type": "markdown",
      "source": [
        "8. Write a program to handle a file opening error using exception handling."
      ],
      "metadata": {
        "id": "qTzdz_HrARbY"
      }
    },
    {
      "cell_type": "code",
      "source": [
        "try:\n",
        "    with open(\"example.txt\", \"r\") as file:\n",
        "        content = file.read()\n",
        "        print(content)\n",
        "except FileNotFoundError:\n",
        "    print(\"Error: The file 'example.txt' was not found.\")\n",
        "except PermissionError:\n",
        "    print(\"Error: Permission denied when trying to open 'example.txt'.\")\n",
        "except Exception as e:\n",
        "    print(f\"An unexpected error occurred: {e}\")\n"
      ],
      "metadata": {
        "colab": {
          "base_uri": "https://localhost:8080/"
        },
        "id": "MUyIVyfzLQU1",
        "outputId": "cf6fd562-88ea-47a9-d4c1-399e88a73317"
      },
      "execution_count": null,
      "outputs": [
        {
          "output_type": "stream",
          "name": "stdout",
          "text": [
            "Error: The file 'example.txt' was not found.\n"
          ]
        }
      ]
    },
    {
      "cell_type": "markdown",
      "source": [
        "9. How can you read a file line by line and store its content in a list in Python?\n",
        " - You can read a file line by line and store its contents in a list using the readlines() method or a loop. Here are both ways:\n",
        "\n",
        "Method 1: Using readlines()\n"
      ],
      "metadata": {
        "id": "RaqKC4W7CvOV"
      }
    },
    {
      "cell_type": "code",
      "source": [
        "with open(\"example.txt\", \"r\") as file:\n",
        "    lines = file.readlines()\n",
        "\n",
        "print(lines)\n"
      ],
      "metadata": {
        "colab": {
          "base_uri": "https://localhost:8080/",
          "height": 193
        },
        "id": "330v2Rr0MnP2",
        "outputId": "7b12b005-9385-49b4-fa4f-d457faf7a2a8"
      },
      "execution_count": null,
      "outputs": [
        {
          "output_type": "error",
          "ename": "FileNotFoundError",
          "evalue": "[Errno 2] No such file or directory: 'example.txt'",
          "traceback": [
            "\u001b[0;31m---------------------------------------------------------------------------\u001b[0m",
            "\u001b[0;31mFileNotFoundError\u001b[0m                         Traceback (most recent call last)",
            "\u001b[0;32m<ipython-input-4-38abc27d19a2>\u001b[0m in \u001b[0;36m<cell line: 0>\u001b[0;34m()\u001b[0m\n\u001b[0;32m----> 1\u001b[0;31m \u001b[0;32mwith\u001b[0m \u001b[0mopen\u001b[0m\u001b[0;34m(\u001b[0m\u001b[0;34m\"example.txt\"\u001b[0m\u001b[0;34m,\u001b[0m \u001b[0;34m\"r\"\u001b[0m\u001b[0;34m)\u001b[0m \u001b[0;32mas\u001b[0m \u001b[0mfile\u001b[0m\u001b[0;34m:\u001b[0m\u001b[0;34m\u001b[0m\u001b[0;34m\u001b[0m\u001b[0m\n\u001b[0m\u001b[1;32m      2\u001b[0m     \u001b[0mlines\u001b[0m \u001b[0;34m=\u001b[0m \u001b[0mfile\u001b[0m\u001b[0;34m.\u001b[0m\u001b[0mreadlines\u001b[0m\u001b[0;34m(\u001b[0m\u001b[0;34m)\u001b[0m\u001b[0;34m\u001b[0m\u001b[0;34m\u001b[0m\u001b[0m\n\u001b[1;32m      3\u001b[0m \u001b[0;34m\u001b[0m\u001b[0m\n\u001b[1;32m      4\u001b[0m \u001b[0mprint\u001b[0m\u001b[0;34m(\u001b[0m\u001b[0mlines\u001b[0m\u001b[0;34m)\u001b[0m\u001b[0;34m\u001b[0m\u001b[0;34m\u001b[0m\u001b[0m\n",
            "\u001b[0;31mFileNotFoundError\u001b[0m: [Errno 2] No such file or directory: 'example.txt'"
          ]
        }
      ]
    },
    {
      "cell_type": "markdown",
      "source": [
        "Each line in the file becomes an element in the list.\n",
        "\n",
        "Includes newline characters (\\n) by default.\n",
        "\n",
        "Method 2: Using a loop (removes \\n)"
      ],
      "metadata": {
        "id": "KfXrpW2aMxCd"
      }
    },
    {
      "cell_type": "code",
      "source": [
        "lines = []\n",
        "with open(\"example.txt\", \"r\") as file:\n",
        "    for line in file:\n",
        "        lines.append(line.strip())\n",
        "\n",
        "print(lines)\n"
      ],
      "metadata": {
        "colab": {
          "base_uri": "https://localhost:8080/",
          "height": 211
        },
        "id": "Yjn29PsPMzQ9",
        "outputId": "c64e88fe-618c-4c08-ad24-a246abdfdea3"
      },
      "execution_count": null,
      "outputs": [
        {
          "output_type": "error",
          "ename": "FileNotFoundError",
          "evalue": "[Errno 2] No such file or directory: 'example.txt'",
          "traceback": [
            "\u001b[0;31m---------------------------------------------------------------------------\u001b[0m",
            "\u001b[0;31mFileNotFoundError\u001b[0m                         Traceback (most recent call last)",
            "\u001b[0;32m<ipython-input-5-c058c5808e7b>\u001b[0m in \u001b[0;36m<cell line: 0>\u001b[0;34m()\u001b[0m\n\u001b[1;32m      1\u001b[0m \u001b[0mlines\u001b[0m \u001b[0;34m=\u001b[0m \u001b[0;34m[\u001b[0m\u001b[0;34m]\u001b[0m\u001b[0;34m\u001b[0m\u001b[0;34m\u001b[0m\u001b[0m\n\u001b[0;32m----> 2\u001b[0;31m \u001b[0;32mwith\u001b[0m \u001b[0mopen\u001b[0m\u001b[0;34m(\u001b[0m\u001b[0;34m\"example.txt\"\u001b[0m\u001b[0;34m,\u001b[0m \u001b[0;34m\"r\"\u001b[0m\u001b[0;34m)\u001b[0m \u001b[0;32mas\u001b[0m \u001b[0mfile\u001b[0m\u001b[0;34m:\u001b[0m\u001b[0;34m\u001b[0m\u001b[0;34m\u001b[0m\u001b[0m\n\u001b[0m\u001b[1;32m      3\u001b[0m     \u001b[0;32mfor\u001b[0m \u001b[0mline\u001b[0m \u001b[0;32min\u001b[0m \u001b[0mfile\u001b[0m\u001b[0;34m:\u001b[0m\u001b[0;34m\u001b[0m\u001b[0;34m\u001b[0m\u001b[0m\n\u001b[1;32m      4\u001b[0m         \u001b[0mlines\u001b[0m\u001b[0;34m.\u001b[0m\u001b[0mappend\u001b[0m\u001b[0;34m(\u001b[0m\u001b[0mline\u001b[0m\u001b[0;34m.\u001b[0m\u001b[0mstrip\u001b[0m\u001b[0;34m(\u001b[0m\u001b[0;34m)\u001b[0m\u001b[0;34m)\u001b[0m\u001b[0;34m\u001b[0m\u001b[0;34m\u001b[0m\u001b[0m\n\u001b[1;32m      5\u001b[0m \u001b[0;34m\u001b[0m\u001b[0m\n",
            "\u001b[0;31mFileNotFoundError\u001b[0m: [Errno 2] No such file or directory: 'example.txt'"
          ]
        }
      ]
    },
    {
      "cell_type": "markdown",
      "source": [
        "strip() removes leading/trailing whitespace, including newlines.\n",
        "\n",
        "Useful if you want clean strings in the list.\n",
        "\n",
        "Both methods are commonly used—choose based on whether you want raw lines or cleaned-up content.\n",
        "\n",
        "\n",
        "\n",
        "\n",
        "\n",
        "\n",
        "\n",
        "\n"
      ],
      "metadata": {
        "id": "zu805NMcM-Zw"
      }
    },
    {
      "cell_type": "markdown",
      "source": [
        "10. How can you append data to an existing file in Python?\n",
        " - To append data to an existing file in Python, open it in append mode ('a or 'a+'):\n",
        "\n",
        "Example:\n"
      ],
      "metadata": {
        "id": "tBtgJPu9DJzM"
      }
    },
    {
      "cell_type": "code",
      "source": [
        "with open(\"example.txt\", \"a\") as file:\n",
        "    file.write(\"This is new data.\\n\")\n"
      ],
      "metadata": {
        "id": "CUR_EpETNU9N"
      },
      "execution_count": null,
      "outputs": []
    },
    {
      "cell_type": "markdown",
      "source": [
        "Notes:\n",
        "'a' mode: Appends to the end without truncating the file.\n",
        "\n",
        "'a+' mode: Same as 'a', but also allows reading.\n",
        "\n",
        "Each call to write() adds content at the end of the file. Use \\n if you want to start on a new line."
      ],
      "metadata": {
        "id": "eXVDjOIBNZXX"
      }
    },
    {
      "cell_type": "markdown",
      "source": [
        "11. Write a Python program that uses a try-except block to handle an error when attempting to access a dictionary key that doesn't exist."
      ],
      "metadata": {
        "id": "jKuwVEx4Dgua"
      }
    },
    {
      "cell_type": "code",
      "source": [
        "my_dict = {\"name\": \"John\", \"age\": 30}\n",
        "\n",
        "try:\n",
        "    print(\"City:\", my_dict[\"city\"])\n",
        "except KeyError:\n",
        "    print(\"Error: 'city' key not found in the dictionary.\")\n"
      ],
      "metadata": {
        "colab": {
          "base_uri": "https://localhost:8080/"
        },
        "id": "Z7c9BMnGNxfe",
        "outputId": "8eb87378-b64c-49b9-8a8d-547df9a7e903"
      },
      "execution_count": null,
      "outputs": [
        {
          "output_type": "stream",
          "name": "stdout",
          "text": [
            "Error: 'city' key not found in the dictionary.\n"
          ]
        }
      ]
    },
    {
      "cell_type": "markdown",
      "source": [
        "Alternative (without error):\n",
        "You can also use get() to avoid exceptions:\n",
        "\n"
      ],
      "metadata": {
        "id": "1ExQQR4-N8LK"
      }
    },
    {
      "cell_type": "code",
      "source": [
        "print(\"City:\", my_dict.get(\"city\", \"Not available\"))\n"
      ],
      "metadata": {
        "colab": {
          "base_uri": "https://localhost:8080/"
        },
        "id": "Qa0r7wIQOBKh",
        "outputId": "ce6d1a9c-7942-48e1-c113-d469719849a8"
      },
      "execution_count": null,
      "outputs": [
        {
          "output_type": "stream",
          "name": "stdout",
          "text": [
            "City: Not available\n"
          ]
        }
      ]
    },
    {
      "cell_type": "markdown",
      "source": [
        "Both approaches work—use try-except for control flow or logging, and get() for cleaner fallback values.\n",
        "\n",
        "\n",
        "\n",
        "\n",
        "\n",
        "\n",
        "\n",
        "\n"
      ],
      "metadata": {
        "id": "9TdH5ET1OH6G"
      }
    },
    {
      "cell_type": "markdown",
      "source": [
        "12. Write a Python program that demonstrates using multiple except blocks to handle different types of exceptions.\n",
        " - Here's a Python program that shows how to use multiple except blocks to handle different types of exceptions:\n",
        "\n"
      ],
      "metadata": {
        "id": "JS74J7rGD44-"
      }
    },
    {
      "cell_type": "code",
      "source": [
        "try:\n",
        "    num = int(input(\"Enter a number: \"))\n",
        "    result = 10 / num\n",
        "    print(\"Result:\", result)\n",
        "\n",
        "    my_list = [1, 2, 3]\n",
        "    print(\"List item:\", my_list[5])\n",
        "\n",
        "except ZeroDivisionError:\n",
        "    print(\"Error: Cannot divide by zero.\")\n",
        "\n",
        "except ValueError:\n",
        "    print(\"Error: Invalid input. Please enter a number.\")\n",
        "\n",
        "except IndexError:\n",
        "    print(\"Error: List index out of range.\")\n",
        "\n",
        "except Exception as e:\n",
        "    print(f\"An unexpected error occurred: {e}\")\n"
      ],
      "metadata": {
        "colab": {
          "base_uri": "https://localhost:8080/"
        },
        "id": "fLwIZHiWOdO-",
        "outputId": "eb365679-7561-47c2-bd45-041e13fbde1f"
      },
      "execution_count": null,
      "outputs": [
        {
          "output_type": "stream",
          "name": "stdout",
          "text": [
            "Enter a number: 6\n",
            "Result: 1.6666666666666667\n",
            "Error: List index out of range.\n"
          ]
        }
      ]
    },
    {
      "cell_type": "markdown",
      "source": [
        "How it works:\n",
        "Catches ZeroDivisionError if the user enters 0.\n",
        "\n",
        "Catches ValueError if the input isn’t a number.\n",
        "\n",
        "Catches IndexError for invalid list access.\n",
        "\n",
        "Exception handles anything else not specifically caught.\n",
        "\n",
        "This structure helps handle specific cases cleanly while still providing a fallback"
      ],
      "metadata": {
        "id": "0LZ6LNabOrZT"
      }
    },
    {
      "cell_type": "markdown",
      "source": [
        "13. How would you check if a file exists before attempting to read it in Python?\n",
        " - You can check if a file exists using the os.path.exists() function or pathlib. Here's both ways:\n",
        "\n",
        "✅ Using os.path:"
      ],
      "metadata": {
        "id": "mAN6JAOREaMv"
      }
    },
    {
      "cell_type": "code",
      "source": [
        "import os\n",
        "\n",
        "if os.path.exists(\"example.txt\"):\n",
        "    with open(\"example.txt\", \"r\") as file:\n",
        "        content = file.read()\n",
        "        print(content)\n",
        "else:\n",
        "    print(\"File does not exist.\")\n"
      ],
      "metadata": {
        "colab": {
          "base_uri": "https://localhost:8080/"
        },
        "id": "Q4jmouIVO9Hq",
        "outputId": "6560c8bf-1f8b-4b88-880b-ba55894c263b"
      },
      "execution_count": null,
      "outputs": [
        {
          "output_type": "stream",
          "name": "stdout",
          "text": [
            "This is new data.\n",
            "\n"
          ]
        }
      ]
    },
    {
      "cell_type": "markdown",
      "source": [
        "✅ Using pathlib (modern way):"
      ],
      "metadata": {
        "id": "-zuMTManPCdZ"
      }
    },
    {
      "cell_type": "code",
      "source": [
        "from pathlib import Path\n",
        "\n",
        "file_path = Path(\"example.txt\")\n",
        "\n",
        "if file_path.exists():\n",
        "    with open(file_path, \"r\") as file:\n",
        "        content = file.read()\n",
        "        print(content)\n",
        "else:\n",
        "    print(\"File does not exist.\")\n"
      ],
      "metadata": {
        "colab": {
          "base_uri": "https://localhost:8080/"
        },
        "id": "5Auz_SSBPJtS",
        "outputId": "32cdc047-e14d-4009-edc6-ba983eb93579"
      },
      "execution_count": null,
      "outputs": [
        {
          "output_type": "stream",
          "name": "stdout",
          "text": [
            "This is new data.\n",
            "\n"
          ]
        }
      ]
    },
    {
      "cell_type": "markdown",
      "source": [
        "Both work fine—pathlib is cleaner and preferred in newer codebases."
      ],
      "metadata": {
        "id": "_G-EtGWCPQBr"
      }
    },
    {
      "cell_type": "markdown",
      "source": [
        "14. Write a program that uses the logging module to log both informational and error messages.\n",
        "Here's a short and crisp Python program using the logging module to log informational and error messages:\n",
        "\n"
      ],
      "metadata": {
        "id": "AKQmxSZBEqvN"
      }
    },
    {
      "cell_type": "code",
      "source": [
        "import logging\n",
        "\n",
        "# Configure logging\n",
        "logging.basicConfig(\n",
        "    level=logging.INFO,\n",
        "    format='%(asctime)s - %(levelname)s - %(message)s',\n",
        "    filename='app.log',  # Logs will be saved in this file\n",
        "    filemode='w'  # Overwrites the file every run; use 'a' to append\n",
        ")\n",
        "\n",
        "def divide(a, b):\n",
        "    logging.info(f\"Attempting to divide {a} by {b}\")\n",
        "    try:\n",
        "        result = a / b\n",
        "        logging.info(f\"Result: {result}\")\n",
        "        return result\n",
        "    except ZeroDivisionError as e:\n",
        "        logging.error(\"Division by zero error\", exc_info=True)\n",
        "\n",
        "# Example usage\n",
        "divide(10, 2)\n",
        "divide(5, 0)\n"
      ],
      "metadata": {
        "colab": {
          "base_uri": "https://localhost:8080/"
        },
        "id": "hlxUGeBmaPuJ",
        "outputId": "6b8bc715-a75a-48ad-e039-f1571b3f85de"
      },
      "execution_count": null,
      "outputs": [
        {
          "output_type": "stream",
          "name": "stderr",
          "text": [
            "ERROR:root:Division by zero error\n",
            "Traceback (most recent call last):\n",
            "  File \"<ipython-input-12-599ff839da71>\", line 14, in divide\n",
            "    result = a / b\n",
            "             ~~^~~\n",
            "ZeroDivisionError: division by zero\n"
          ]
        }
      ]
    },
    {
      "cell_type": "markdown",
      "source": [
        "What it does:\n",
        "\n",
        "Logs info messages when a division attempt is made.\n",
        "\n",
        "Logs an error with traceback if division by zero happens.\n",
        "\n",
        "Outputs all logs to a file named app.log.\n",
        "\n",
        "Let me know if you want logs to also show in the terminal."
      ],
      "metadata": {
        "id": "vnUjiGW5adJk"
      }
    },
    {
      "cell_type": "markdown",
      "source": [
        "15. Write a Python program that prints the content of a file and handles the case when the file is empty.\n",
        "Here's a simple Python program that reads and prints the content of a file, and handles the case when the file is empty:\n",
        "\n"
      ],
      "metadata": {
        "id": "n5LqppbgE-C0"
      }
    },
    {
      "cell_type": "code",
      "source": [
        "def print_file_content(filename):\n",
        "    try:\n",
        "        with open(filename, 'r') as file:\n",
        "            content = file.read()\n",
        "            if content.strip():  # Checks for non-empty content\n",
        "                print(\"File Content:\\n\")\n",
        "                print(content)\n",
        "            else:\n",
        "                print(\"The file is empty.\")\n",
        "    except FileNotFoundError:\n",
        "        print(f\"File '{filename}' not found.\")\n",
        "    except Exception as e:\n",
        "        print(f\"An error occurred: {e}\")\n",
        "\n",
        "# Example usage\n",
        "print_file_content('example.txt')\n"
      ],
      "metadata": {
        "id": "BUCa-EhR3iHy",
        "colab": {
          "base_uri": "https://localhost:8080/"
        },
        "outputId": "0d97a332-760c-4e27-87e1-832fa5467b60"
      },
      "execution_count": null,
      "outputs": [
        {
          "output_type": "stream",
          "name": "stdout",
          "text": [
            "File Content:\n",
            "\n",
            "This is new data.\n",
            "\n"
          ]
        }
      ]
    },
    {
      "cell_type": "markdown",
      "source": [
        "How it works:\n",
        "\n",
        "Opens the file in read mode.\n",
        "\n",
        "If the content is empty or whitespace, it tells the user.\n",
        "\n",
        "Handles missing file or other errors gracefully.\n",
        "\n",
        "Let me know if you want this to log errors instead of printing.\n",
        "\n",
        "\n",
        "\n",
        "\n",
        "\n",
        "\n",
        "\n",
        "\n"
      ],
      "metadata": {
        "id": "VtSVOMzQa0vu"
      }
    },
    {
      "cell_type": "markdown",
      "source": [
        "16. Demonstrate how to use memory profiling to check the memory usage of a small program.\n",
        "\n",
        "To check memory usage of a small Python program, you can use the memory_profiler module. Here's a demo:\n",
        "\n",
        " 1.Install the module (if not already):\n",
        "\n",
        "\n",
        "\n"
      ],
      "metadata": {
        "id": "4bqnAjAaa2XA"
      }
    },
    {
      "cell_type": "code",
      "source": [
        "pip install memory-profiler\n"
      ],
      "metadata": {
        "id": "VtFq8Ne-czNB"
      },
      "execution_count": null,
      "outputs": []
    },
    {
      "cell_type": "markdown",
      "source": [
        "2. Sample Program with Memory Profiling:\n",
        "**bold text**"
      ],
      "metadata": {
        "id": "jgn-bqZBc5N4"
      }
    },
    {
      "cell_type": "code",
      "source": [
        "from memory_profiler import profile\n",
        "\n",
        "@profile\n",
        "def create_large_list():\n",
        "    data = [x * 2 for x in range(1000000)]\n",
        "    return data\n",
        "\n",
        "if __name__ == \"__main__\":\n",
        "    create_large_list()\n"
      ],
      "metadata": {
        "colab": {
          "base_uri": "https://localhost:8080/",
          "height": 383
        },
        "id": "5G3FA3LJc9ff",
        "outputId": "04ae1be3-c59c-44e0-8799-8eb6ac0c02f9"
      },
      "execution_count": null,
      "outputs": [
        {
          "output_type": "error",
          "ename": "ModuleNotFoundError",
          "evalue": "No module named 'memory_profiler'",
          "traceback": [
            "\u001b[0;31m---------------------------------------------------------------------------\u001b[0m",
            "\u001b[0;31mModuleNotFoundError\u001b[0m                       Traceback (most recent call last)",
            "\u001b[0;32m<ipython-input-14-b9b70e8aa8d4>\u001b[0m in \u001b[0;36m<cell line: 0>\u001b[0;34m()\u001b[0m\n\u001b[0;32m----> 1\u001b[0;31m \u001b[0;32mfrom\u001b[0m \u001b[0mmemory_profiler\u001b[0m \u001b[0;32mimport\u001b[0m \u001b[0mprofile\u001b[0m\u001b[0;34m\u001b[0m\u001b[0;34m\u001b[0m\u001b[0m\n\u001b[0m\u001b[1;32m      2\u001b[0m \u001b[0;34m\u001b[0m\u001b[0m\n\u001b[1;32m      3\u001b[0m \u001b[0;34m@\u001b[0m\u001b[0mprofile\u001b[0m\u001b[0;34m\u001b[0m\u001b[0;34m\u001b[0m\u001b[0m\n\u001b[1;32m      4\u001b[0m \u001b[0;32mdef\u001b[0m \u001b[0mcreate_large_list\u001b[0m\u001b[0;34m(\u001b[0m\u001b[0;34m)\u001b[0m\u001b[0;34m:\u001b[0m\u001b[0;34m\u001b[0m\u001b[0;34m\u001b[0m\u001b[0m\n\u001b[1;32m      5\u001b[0m     \u001b[0mdata\u001b[0m \u001b[0;34m=\u001b[0m \u001b[0;34m[\u001b[0m\u001b[0mx\u001b[0m \u001b[0;34m*\u001b[0m \u001b[0;36m2\u001b[0m \u001b[0;32mfor\u001b[0m \u001b[0mx\u001b[0m \u001b[0;32min\u001b[0m \u001b[0mrange\u001b[0m\u001b[0;34m(\u001b[0m\u001b[0;36m1000000\u001b[0m\u001b[0;34m)\u001b[0m\u001b[0;34m]\u001b[0m\u001b[0;34m\u001b[0m\u001b[0;34m\u001b[0m\u001b[0m\n",
            "\u001b[0;31mModuleNotFoundError\u001b[0m: No module named 'memory_profiler'",
            "",
            "\u001b[0;31m---------------------------------------------------------------------------\u001b[0;32m\nNOTE: If your import is failing due to a missing package, you can\nmanually install dependencies using either !pip or !apt.\n\nTo view examples of installing some common dependencies, click the\n\"Open Examples\" button below.\n\u001b[0;31m---------------------------------------------------------------------------\u001b[0m\n"
          ],
          "errorDetails": {
            "actions": [
              {
                "action": "open_url",
                "actionText": "Open Examples",
                "url": "/notebooks/snippets/importing_libraries.ipynb"
              }
            ]
          }
        }
      ]
    },
    {
      "cell_type": "markdown",
      "source": [
        "3. Run it with profiling enabled:\n",
        "Save the file as mem_test.py, then run:\n"
      ],
      "metadata": {
        "id": "-gb7gbjFc5C4"
      }
    },
    {
      "cell_type": "code",
      "source": [
        "python -m memory_profiler mem_test.py\n"
      ],
      "metadata": {
        "id": "L3RtmgX1d3Tx"
      },
      "execution_count": null,
      "outputs": []
    },
    {
      "cell_type": "markdown",
      "source": [
        "Output:\n",
        "It will show line-by-line memory usage like:\n",
        "\n"
      ],
      "metadata": {
        "id": "nsjTWlvAdsOi"
      }
    },
    {
      "cell_type": "code",
      "source": [
        "Line #    Mem usage    Increment  Occurrences   Line Contents\n",
        "=============================================================\n",
        "     4     14.1 MiB     14.1 MiB           1   @profile\n",
        "     5     21.2 MiB      7.1 MiB           1   def create_large_list():\n",
        "     6     49.8 MiB     28.6 MiB           1       data = [x * 2 for x in range(1000000)]\n",
        "     7     49.8 MiB      0.0 MiB           1       return data\n"
      ],
      "metadata": {
        "id": "LpKz50Btdm6v"
      },
      "execution_count": null,
      "outputs": []
    },
    {
      "cell_type": "markdown",
      "source": [
        "17. Write a Python program to create and write a list of numbers to a file, one number per line."
      ],
      "metadata": {
        "id": "UbuF81vLeB_X"
      }
    },
    {
      "cell_type": "code",
      "source": [
        "numbers = [10, 20, 30, 40, 50]\n",
        "\n",
        "with open('numbers.txt', 'w') as file:\n",
        "    for number in numbers:\n",
        "        file.write(f\"{number}\\n\")\n"
      ],
      "metadata": {
        "id": "JPxgS6pMf_b1"
      },
      "execution_count": null,
      "outputs": []
    },
    {
      "cell_type": "markdown",
      "source": [
        "What it does:\n",
        "\n",
        "Creates a list of numbers\n",
        "\n",
        "Opens (or creates) numbers.txt in write mode\n",
        "\n",
        "Write each number on a new line\n",
        "\n"
      ],
      "metadata": {
        "id": "VErFmv-HgGFR"
      }
    },
    {
      "cell_type": "markdown",
      "source": [
        "18. How would you implement a basic logging setup that logs to a file with rotation after 1MB?"
      ],
      "metadata": {
        "id": "qU7GhM7leoRk"
      }
    },
    {
      "cell_type": "code",
      "source": [
        "import logging\n",
        "from logging.handlers import RotatingFileHandler\n",
        "\n",
        "# Setup rotating log handler\n",
        "log_handler = RotatingFileHandler(\n",
        "    'app.log', maxBytes=1_000_000, backupCount=3  # 1MB per file, keep 3 backups\n",
        ")\n",
        "\n",
        "# Configure logger\n",
        "logging.basicConfig(\n",
        "    level=logging.INFO,\n",
        "    format='%(asctime)s - %(levelname)s - %(message)s',\n",
        "    handlers=[log_handler]\n",
        ")\n",
        "\n",
        "# Example usage\n",
        "for i in range(10000):\n",
        "    logging.info(f\"Logging line {i}\")\n"
      ],
      "metadata": {
        "id": "oKSnrFoefmxZ"
      },
      "execution_count": null,
      "outputs": []
    },
    {
      "cell_type": "markdown",
      "source": [
        "Writes logs to app.log\n",
        "\n",
        "When file size hits 1MB, it rotates (e.g., app.log, app.log.1, etc.)\n",
        "\n",
        "Keeps last 3 backups\n",
        "\n"
      ],
      "metadata": {
        "id": "is_ZOr3gfwr5"
      }
    },
    {
      "cell_type": "markdown",
      "source": [
        "19. Write a program that handles both IndexError and KeyError using a try-except block."
      ],
      "metadata": {
        "id": "ejR_44LjgJzV"
      }
    },
    {
      "cell_type": "code",
      "source": [
        "my_list = [1, 2, 3]\n",
        "my_dict = {'a': 10, 'b': 20}\n",
        "\n",
        "try:\n",
        "    print(\"Accessing list index 5:\", my_list[5])  # IndexError\n",
        "    print(\"Accessing dict key 'z':\", my_dict['z'])  # KeyError\n",
        "except IndexError:\n",
        "    print(\"IndexError: Tried to access an invalid index in the list.\")\n",
        "except KeyError:\n",
        "    print(\"KeyError: Tried to access a non-existent key in the dictionary.\")\n"
      ],
      "metadata": {
        "colab": {
          "base_uri": "https://localhost:8080/"
        },
        "id": "TZb2wvLGhBw1",
        "outputId": "692aefdc-c9bf-4937-9e94-69aec19bbac3"
      },
      "execution_count": null,
      "outputs": [
        {
          "output_type": "stream",
          "name": "stdout",
          "text": [
            "IndexError: Tried to access an invalid index in the list.\n"
          ]
        }
      ]
    },
    {
      "cell_type": "markdown",
      "source": [
        "What it does:\n",
        "\n",
        "Tries to access a non-existent list index and dict key\n",
        "\n",
        "Catches and handles IndexError and KeyError separately\n",
        "\n",
        "Let me know if you want it to handle both in a single block too.\n",
        "\n",
        "\n",
        "\n",
        "\n",
        "\n",
        "\n",
        "\n",
        "\n"
      ],
      "metadata": {
        "id": "Ip3DNFFzhIw0"
      }
    },
    {
      "cell_type": "markdown",
      "source": [
        "20. How would you open a file and read its contents using a context manager in Python?*italicized text*"
      ],
      "metadata": {
        "id": "MRXWUPXIhU03"
      }
    },
    {
      "cell_type": "code",
      "source": [
        "with open('example.txt', 'r') as file:\n",
        "    content = file.read()\n",
        "    print(content)\n"
      ],
      "metadata": {
        "colab": {
          "base_uri": "https://localhost:8080/"
        },
        "id": "Vmy0uqoYdxZJ",
        "outputId": "895db275-eef3-412c-9e65-3c7f268b3044"
      },
      "execution_count": null,
      "outputs": [
        {
          "output_type": "stream",
          "name": "stdout",
          "text": [
            "This is new data.\n",
            "\n"
          ]
        }
      ]
    },
    {
      "cell_type": "markdown",
      "source": [
        "🔍 What it does:\n",
        "open('example.txt', 'r'): opens the file in read mode\n",
        "\n",
        "with ensures the file is automatically closed after reading\n",
        "\n",
        "file.read() reads the entire content\n",
        "\n",
        "Let me know if you want to read it line by line instead."
      ],
      "metadata": {
        "id": "GktTlr1xhqAD"
      }
    },
    {
      "cell_type": "markdown",
      "source": [
        "21. Write a Python program that reads a file and prints the number of occurrences of a specific word."
      ],
      "metadata": {
        "id": "USPGDssrhrgd"
      }
    },
    {
      "cell_type": "code",
      "source": [
        "def count_word_occurrences(filename, target_word):\n",
        "    try:\n",
        "        with open(filename, 'r') as file:\n",
        "            content = file.read().lower()\n",
        "            word_count = content.split().count(target_word.lower())\n",
        "            print(f\"The word '{target_word}' occurred {word_count} times.\")\n",
        "    except FileNotFoundError:\n",
        "        print(f\"File '{filename}' not found.\")\n",
        "    except Exception as e:\n",
        "        print(f\"An error occurred: {e}\")\n",
        "\n",
        "# Example usage\n",
        "count_word_occurrences('sample.txt', 'python')\n"
      ],
      "metadata": {
        "colab": {
          "base_uri": "https://localhost:8080/"
        },
        "id": "tz86VwKEhmGY",
        "outputId": "94035326-8d85-4aa0-d531-e2f537c028cd"
      },
      "execution_count": null,
      "outputs": [
        {
          "output_type": "stream",
          "name": "stdout",
          "text": [
            "File 'sample.txt' not found.\n"
          ]
        }
      ]
    },
    {
      "cell_type": "markdown",
      "source": [
        "Case-insensitive match using .lower()\n",
        "\n",
        "Splits text by whitespace\n",
        "\n",
        "Handles missing file error\n",
        "\n",
        "Let me know if you want to count whole-word matches only or support punctuation removal."
      ],
      "metadata": {
        "id": "yCu2Dt2-igDM"
      }
    },
    {
      "cell_type": "markdown",
      "source": [
        "22. How can you check if a file is empty before attempting to read its contents?"
      ],
      "metadata": {
        "id": "vmQTaoFhikDK"
      }
    },
    {
      "cell_type": "code",
      "source": [
        "import os\n",
        "\n",
        "filename = 'example.txt'\n",
        "\n",
        "if os.path.getsize(filename) == 0:\n",
        "    print(\"The file is empty.\")\n",
        "else:\n",
        "    with open(filename, 'r') as file:\n",
        "        content = file.read()\n",
        "        print(content)\n"
      ],
      "metadata": {
        "colab": {
          "base_uri": "https://localhost:8080/"
        },
        "id": "WFu6BpS0iaNd",
        "outputId": "4e88d036-c1d4-413f-dff3-4c92ce332ffc"
      },
      "execution_count": null,
      "outputs": [
        {
          "output_type": "stream",
          "name": "stdout",
          "text": [
            "This is new data.\n",
            "\n"
          ]
        }
      ]
    },
    {
      "cell_type": "markdown",
      "source": [
        "Checks the file size in bytes\n",
        "\n",
        "If 0, it's empty\n",
        "\n",
        "Otherwise, reads and prints content\n",
        "\n",
        "Let me know if you want to handle this without using the os module.\n",
        "\n",
        "\n",
        "\n",
        "\n",
        "\n",
        "\n",
        "\n",
        "\n"
      ],
      "metadata": {
        "id": "alCsL_1TjL_k"
      }
    },
    {
      "cell_type": "markdown",
      "source": [
        "23. Write a Python program that writes to a log file when an error occurs during file handling."
      ],
      "metadata": {
        "id": "_YAYK2_ZjNYk"
      }
    },
    {
      "cell_type": "code",
      "source": [
        "import logging\n",
        "\n",
        "# Setup logging\n",
        "logging.basicConfig(\n",
        "    filename='file_errors.log',\n",
        "    level=logging.ERROR,\n",
        "    format='%(asctime)s - %(levelname)s - %(message)s'\n",
        ")\n",
        "\n",
        "def read_file(filename):\n",
        "    try:\n",
        "        with open(filename, 'r') as file:\n",
        "            print(file.read())\n",
        "    except Exception as e:\n",
        "        logging.error(f\"Error reading file '{filename}': {e}\")\n",
        "\n",
        "# Example usage\n",
        "read_file('nonexistent_file.txt')\n"
      ],
      "metadata": {
        "colab": {
          "base_uri": "https://localhost:8080/"
        },
        "id": "1TB50TCSjDwh",
        "outputId": "3e173660-d7cd-4ae6-f4ab-d0c73e54c658"
      },
      "execution_count": null,
      "outputs": [
        {
          "output_type": "stream",
          "name": "stderr",
          "text": [
            "ERROR:root:Error reading file 'nonexistent_file.txt': [Errno 2] No such file or directory: 'nonexistent_file.txt'\n"
          ]
        }
      ]
    },
    {
      "cell_type": "markdown",
      "source": [
        "Tries to open and read a file\n",
        "\n",
        "If any error occurs (e.g. file not found), logs it to file_errors.log\n",
        "\n",
        "Let me know if you want it to log successful reads too.\n",
        "\n",
        "\n",
        "\n",
        "\n",
        "\n",
        "\n",
        "\n"
      ],
      "metadata": {
        "id": "t6JtFz4xj0Wb"
      }
    },
    {
      "cell_type": "code",
      "source": [],
      "metadata": {
        "id": "K1U8NEACjwfP"
      },
      "execution_count": null,
      "outputs": []
    },
    {
      "cell_type": "markdown",
      "source": [],
      "metadata": {
        "id": "OzdTTpIYj91a"
      }
    }
  ]
}